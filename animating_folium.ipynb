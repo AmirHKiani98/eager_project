{
 "cells": [
  {
   "cell_type": "code",
   "execution_count": 6,
   "metadata": {},
   "outputs": [
    {
     "data": {
      "text/html": [
       "\n",
       "        <iframe\n",
       "            width=\"800\"\n",
       "            height=\"600\"\n",
       "            src=\"animated_vehicle_map.html\"\n",
       "            frameborder=\"0\"\n",
       "            allowfullscreen\n",
       "            \n",
       "        ></iframe>\n",
       "        "
      ],
      "text/plain": [
       "<IPython.lib.display.IFrame at 0x11d02a510>"
      ]
     },
     "execution_count": 6,
     "metadata": {},
     "output_type": "execute_result"
    }
   ],
   "source": [
    "import pydeck as pdk\n",
    "import pandas as pd\n",
    "from IPython.display import IFrame\n",
    "\n",
    "# Sample vehicle tracking data\n",
    "data = pd.DataFrame([\n",
    "    {\"lat\": 44.97399, \"lon\": -93.22773, \"time\": 0},\n",
    "    {\"lat\": 44.97420, \"lon\": -93.22650, \"time\": 10},\n",
    "    {\"lat\": 44.97480, \"lon\": -93.22530, \"time\": 20},\n",
    "    {\"lat\": 44.97550, \"lon\": -93.22410, \"time\": 30},\n",
    "])\n",
    "\n",
    "# Define the layer with animation\n",
    "layer = pdk.Layer(\n",
    "    \"TripsLayer\",\n",
    "    data,\n",
    "    get_path=[\"lon\", \"lat\"],\n",
    "    get_timestamps=\"time\",\n",
    "    get_color=[200, 30, 0],  # Red vehicle\n",
    "    opacity=0.8,\n",
    "    width_min_pixels=5,\n",
    "    rounded=True,\n",
    "    trail_length=40,  # Smooth tail effect\n",
    "    current_time=0,  # Start at time 0\n",
    ")\n",
    "\n",
    "# Define the map\n",
    "view = pdk.ViewState(latitude=44.974, longitude=-93.226, zoom=14, pitch=50)\n",
    "\n",
    "# Create the deck.gl map\n",
    "r = pdk.Deck(layers=[layer], initial_view_state=view, map_style=\"mapbox://styles/mapbox/dark-v10\")\n",
    "\n",
    "# Save as an HTML file\n",
    "file_path = \"animated_vehicle_map.html\"\n",
    "r.to_html(file_path)\n",
    "\n",
    "# Display in Colab\n",
    "IFrame(file_path, width=800, height=600)\n"
   ]
  },
  {
   "cell_type": "code",
   "execution_count": null,
   "metadata": {},
   "outputs": [],
   "source": []
  }
 ],
 "metadata": {
  "kernelspec": {
   "display_name": ".venv",
   "language": "python",
   "name": "python3"
  },
  "language_info": {
   "codemirror_mode": {
    "name": "ipython",
    "version": 3
   },
   "file_extension": ".py",
   "mimetype": "text/x-python",
   "name": "python",
   "nbconvert_exporter": "python",
   "pygments_lexer": "ipython3",
   "version": "3.13.2"
  }
 },
 "nbformat": 4,
 "nbformat_minor": 2
}
