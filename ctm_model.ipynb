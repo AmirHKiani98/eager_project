{
 "cells": [
  {
   "cell_type": "code",
   "execution_count": 4,
   "metadata": {},
   "outputs": [],
   "source": [
    "import matplotlib.pyplot as plt\n",
    "import numpy as np\n",
    "import pandas as pd\n",
    "import pickle\n",
    "import json\n",
    "import geopandas as gpd\n",
    "from shapely.wkt import loads"
   ]
  },
  {
   "cell_type": "code",
   "execution_count": 5,
   "metadata": {},
   "outputs": [],
   "source": [
    "# loading the main dataframe\n",
    "main_df = pd.read_csv(\"20181024_d1_0830_0900_segmented_oneaxistrajectory_traffic.csv\")\n",
    "# loading the traffic light states\n",
    "with open(\"20181024_d1_0830_0900_traffic_light_states.json\") as f:\n",
    "    traffic_info = json.load(f)\n",
    "# loading the segments\n",
    "segments_gdf = gpd.read_file(\"20181024_d1_0830_0900_segments.csv\")\n",
    "segments_gdf[\"geometry\"] = segments_gdf[\"geometry\"].apply(loads)\n",
    "# loading the traffic lights\n",
    "traffic_lights_df = pd.read_csv(\"traffic_lights.csv\")\n",
    "# loading the traffic light states\n",
    "with open(\"traffic_info_dict.pkl\", \"rb\") as f:\n",
    "    traffic_lights_dict_states = pickle.load(f)"
   ]
  },
  {
   "cell_type": "code",
   "execution_count": null,
   "metadata": {},
   "outputs": [],
   "source": []
  }
 ],
 "metadata": {
  "kernelspec": {
   "display_name": ".venv",
   "language": "python",
   "name": "python3"
  },
  "language_info": {
   "codemirror_mode": {
    "name": "ipython",
    "version": 3
   },
   "file_extension": ".py",
   "mimetype": "text/x-python",
   "name": "python",
   "nbconvert_exporter": "python",
   "pygments_lexer": "ipython3",
   "version": "3.10.13"
  }
 },
 "nbformat": 4,
 "nbformat_minor": 2
}
