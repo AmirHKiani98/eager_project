{
  "cells": [
    {
      "cell_type": "markdown",
      "metadata": {
        "id": "Xzj_kBSWDpyh"
      },
      "source": [
        "- Author (except cells that contain prompt): Amirhossein Kiani"
      ]
    },
    {
      "cell_type": "code",
      "execution_count": null,
      "metadata": {
        "colab": {
          "base_uri": "https://localhost:8080/"
        },
        "id": "pDszcFThGTeG",
        "outputId": "ba6cb632-4381-4f64-993f-94e8abb977e7"
      },
      "outputs": [],
      "source": [
        "# prompt: give me a code that connects to my drive\n",
        "\n",
        "from google.colab import drive\n",
        "drive.mount('/content/drive')\n"
      ]
    },
    {
      "cell_type": "code",
      "execution_count": null,
      "metadata": {
        "id": "qD9prnk6I3LE"
      },
      "outputs": [],
      "source": [
        "import matplotlib.pyplot as plt\n",
        "import numpy as np\n",
        "import pandas as pd\n",
        "import pickle\n",
        "import json\n",
        "import geopandas as gpd\n",
        "from shapely.wkt import loads\n",
        "from pyproj import Proj, Transformer\n",
        "from tqdm import tqdm"
      ]
    },
    {
      "cell_type": "code",
      "execution_count": 1,
      "metadata": {
        "id": "op0O4vzEq4DM"
      },
      "outputs": [],
      "source": [
        "import matplotlib.pyplot as plt\n",
        "import matplotlib.animation as animation\n",
        "import pandas as pd\n",
        "\n",
        "data = pd.read_csv(\"20181024_d1_0830_0900_segmented_oneaxistrajectory_cell.csv\")"
      ]
    },
    {
      "cell_type": "code",
      "execution_count": 2,
      "metadata": {
        "colab": {
          "base_uri": "https://localhost:8080/",
          "height": 424
        },
        "id": "-hdaE2TsBbUd",
        "outputId": "86fd20f8-ce8a-4a52-f378-7214293f13d8"
      },
      "outputs": [
        {
          "data": {
            "text/html": [
              "<div>\n",
              "<style scoped>\n",
              "    .dataframe tbody tr th:only-of-type {\n",
              "        vertical-align: middle;\n",
              "    }\n",
              "\n",
              "    .dataframe tbody tr th {\n",
              "        vertical-align: top;\n",
              "    }\n",
              "\n",
              "    .dataframe thead th {\n",
              "        text-align: right;\n",
              "    }\n",
              "</style>\n",
              "<table border=\"1\" class=\"dataframe\">\n",
              "  <thead>\n",
              "    <tr style=\"text-align: right;\">\n",
              "      <th></th>\n",
              "      <th>track_id; type; traveled_d; avg_speed; lat; lon; speed; lon_acc; lat_acc; time</th>\n",
              "    </tr>\n",
              "  </thead>\n",
              "  <tbody>\n",
              "    <tr>\n",
              "      <th>0</th>\n",
              "      <td>1; Car; 48.85; 9.770344; 37.977391; 23.737688;...</td>\n",
              "    </tr>\n",
              "    <tr>\n",
              "      <th>1</th>\n",
              "      <td>2; Motorcycle; 98.09; 19.839417; 37.977642; 23...</td>\n",
              "    </tr>\n",
              "    <tr>\n",
              "      <th>2</th>\n",
              "      <td>3; Motorcycle; 63.80; 18.228752; 37.977997; 23...</td>\n",
              "    </tr>\n",
              "    <tr>\n",
              "      <th>3</th>\n",
              "      <td>4; Motorcycle; 145.72; 26.229014; 37.978135; 2...</td>\n",
              "    </tr>\n",
              "    <tr>\n",
              "      <th>4</th>\n",
              "      <td>5; Motorcycle; 138.01; 24.841425; 37.978134; 2...</td>\n",
              "    </tr>\n",
              "    <tr>\n",
              "      <th>...</th>\n",
              "      <td>...</td>\n",
              "    </tr>\n",
              "    <tr>\n",
              "      <th>917</th>\n",
              "      <td>918; Car; 78.83; 30.846243; 37.980629; 23.7350...</td>\n",
              "    </tr>\n",
              "    <tr>\n",
              "      <th>918</th>\n",
              "      <td>919; Motorcycle; 19.50; 9.234518; 37.979327; 2...</td>\n",
              "    </tr>\n",
              "    <tr>\n",
              "      <th>919</th>\n",
              "      <td>920; Car; 48.97; 24.486209; 37.978413; 23.7355...</td>\n",
              "    </tr>\n",
              "    <tr>\n",
              "      <th>920</th>\n",
              "      <td>921; Motorcycle; 46.68; 30.007124; 37.980020; ...</td>\n",
              "    </tr>\n",
              "    <tr>\n",
              "      <th>921</th>\n",
              "      <td>922; Car; 35.00; 23.335533; 37.978428; 23.7355...</td>\n",
              "    </tr>\n",
              "  </tbody>\n",
              "</table>\n",
              "<p>922 rows × 1 columns</p>\n",
              "</div>"
            ],
            "text/plain": [
              "    track_id; type; traveled_d; avg_speed; lat; lon; speed; lon_acc; lat_acc; time\n",
              "0    1; Car; 48.85; 9.770344; 37.977391; 23.737688;...                            \n",
              "1    2; Motorcycle; 98.09; 19.839417; 37.977642; 23...                            \n",
              "2    3; Motorcycle; 63.80; 18.228752; 37.977997; 23...                            \n",
              "3    4; Motorcycle; 145.72; 26.229014; 37.978135; 2...                            \n",
              "4    5; Motorcycle; 138.01; 24.841425; 37.978134; 2...                            \n",
              "..                                                 ...                            \n",
              "917  918; Car; 78.83; 30.846243; 37.980629; 23.7350...                            \n",
              "918  919; Motorcycle; 19.50; 9.234518; 37.979327; 2...                            \n",
              "919  920; Car; 48.97; 24.486209; 37.978413; 23.7355...                            \n",
              "920  921; Motorcycle; 46.68; 30.007124; 37.980020; ...                            \n",
              "921  922; Car; 35.00; 23.335533; 37.978428; 23.7355...                            \n",
              "\n",
              "[922 rows x 1 columns]"
            ]
          },
          "execution_count": 2,
          "metadata": {},
          "output_type": "execute_result"
        }
      ],
      "source": [
        "pd.read_csv(\"20181024_d1_0830_0900.csv\")"
      ]
    },
    {
      "cell_type": "code",
      "execution_count": null,
      "metadata": {
        "colab": {
          "base_uri": "https://localhost:8080/",
          "height": 424
        },
        "id": "eB4NfniZ-Lt2",
        "outputId": "5449db72-b2f0-4a9a-dec7-bdab8e243d5b"
      },
      "outputs": [],
      "source": [
        "data"
      ]
    },
    {
      "cell_type": "code",
      "execution_count": null,
      "metadata": {
        "id": "tHJeUzA7Eclh"
      },
      "outputs": [],
      "source": [
        "import json\n",
        "traffic_light_states_path = \"20181024_d1_0830_0900_traffic_light_states.json\"\n",
        "with open(traffic_light_states_path, \"r\") as f:\n",
        "  traffic_light_states = json.load(f)"
      ]
    },
    {
      "cell_type": "code",
      "execution_count": null,
      "metadata": {
        "colab": {
          "base_uri": "https://localhost:8080/",
          "height": 1000
        },
        "id": "Y9tMNxkmR_cI",
        "outputId": "495ca806-887e-4137-d06f-958e9f53d5f8"
      },
      "outputs": [],
      "source": [
        "grouped = data.groupby('time')\n",
        "grouped_dict = {}\n",
        "for time, group in grouped:\n",
        "  grouped_dict[time] = group\n",
        "from os import times\n",
        "import numpy as np\n",
        "import matplotlib.pyplot as plt\n",
        "import matplotlib.animation as animation\n",
        "from matplotlib import rc\n",
        "rc('animation', html='jshtml')\n",
        "\n",
        "import hashlib\n",
        "max_link_id = data[\"link_id\"].values.max()\n",
        "max_cell_id = {link_id:pd.to_numeric(data[data[\"link_id\"] == link_id][\"closest_cell\"].str.extract(r'(\\d+)')[0], errors='coerce').max() for link_id in data[\"link_id\"].unique()}\n",
        "first_df = grouped_dict[list(grouped_dict.keys())[0]]\n",
        "\n",
        "def color_finder_link(link_id):\n",
        "    # Convert hash to an integer\n",
        "    return link_id / max_link_id  # Normalize to range [0,1]\n",
        "\n",
        "def color_finder_cell(cell_id, link_id):\n",
        "  cell_id = int(cell_id.split(\"_\")[1])\n",
        "  return cell_id / max_cell_id[link_id]  # Normalize to range [0,1]\n",
        "\n",
        "fig = plt.figure(figsize=(12, 8))\n",
        "\n",
        "# Create GridSpec to control layout\n",
        "gs = fig.add_gridspec(2, 2, height_ratios=[1, 5])  # 1 row for legend, 5 for plots\n",
        "\n",
        "# Create legend axis spanning both columns\n",
        "legend_ax = fig.add_subplot(gs[0, :])  # Full-width top row\n",
        "\n",
        "# Create the main plots below\n",
        "ax = fig.add_subplot(gs[1, 0])  # Left plot\n",
        "ax2 = fig.add_subplot(gs[1, 1])  # Right plot\n",
        "\n",
        "scatter = ax.scatter([], [], c=[], s=20, cmap=\"twilight\", edgecolor=\"k\", vmin=0, vmax=1)\n",
        "scatter2 = ax2.scatter([], [], c=[], s=20, cmap=\"twilight\", edgecolor=\"k\", vmin=0, vmax=1)\n",
        "x_min = min(first_df[\"lon\"].values)\n",
        "x_max = max(first_df[\"lon\"].values)\n",
        "y_min = min(first_df[\"lat\"].values)\n",
        "y_max = min(first_df[\"lat\"].values)\n",
        "ax.axis([x_min-0.0025, x_max + 0.0025, y_min-0.0025, y_max+0.008])\n",
        "ax2.axis([x_min-0.0025, x_max + 0.0025, y_min-0.0025, y_max+0.008])\n",
        "\n",
        "\n",
        "# Traffic Light Indicator Positions\n",
        "traffic_light_labels = [\"1\", \"2\", \"3\", \"4\"]\n",
        "traffic_light_positions = np.linspace(0.2, 0.8, 4)  # Evenly spaced\n",
        "\n",
        "# Create traffic light legend (scatter plot)\n",
        "traffic_light_legend = legend_ax.scatter(\n",
        "    traffic_light_positions, [0.5] * 4,  # Fixed y-position\n",
        "    s=200, edgecolor=\"black\", zorder=3\n",
        ")\n",
        "traffic_light_labels = list(traffic_light_states.keys())\n",
        "# Add Text Labels\n",
        "# for i, (pos, label) in enumerate(zip(traffic_light_positions, traffic_light_labels)):\n",
        "#     legend_ax.text(pos, 0.7, label, ha=\"center\", fontsize=12, fontweight=\"bold\")\n",
        "\n",
        "# Hide axes for cleaner display\n",
        "legend_ax.set_xticks([])\n",
        "legend_ax.set_yticks([])\n",
        "legend_ax.set_frame_on(False)\n",
        "\n",
        "\n",
        "\n",
        "# Function to generate random data\n",
        "def generate_data(frame):\n",
        "    timestamp = list(grouped_dict.keys())[frame]\n",
        "\n",
        "    dataframe = grouped_dict[timestamp]\n",
        "    x = dataframe[\"lon\"].values\n",
        "    y = dataframe[\"lat\"].values\n",
        "    colors = [color_finder_cell(row[\"closest_cell\"], row[\"link_id\"]) for index, row in dataframe[[\"closest_cell\", \"link_id\"]].iterrows()]\n",
        "    colors2 = [color_finder_link(link_id) for link_id in dataframe[\"link_id\"].values]\n",
        "    fig.suptitle(f\"Time: {timestamp}\", fontsize=16)\n",
        "\n",
        "    tl_states = [traffic_light_states[tl][str(timestamp)] for tl in traffic_light_labels]\n",
        "\n",
        "    return x, y, colors, colors2, tl_states\n",
        "\n",
        "# Animation update function\n",
        "def update(frame):\n",
        "    x, y, colors, colors2, tl_states = generate_data(frame)\n",
        "    # print(x, y)\n",
        "    scatter.set_offsets(np.column_stack((x, y)))\n",
        "    scatter2.set_offsets(np.column_stack((x, y)))\n",
        "    scatter.set_array(colors)\n",
        "    scatter2.set_array(colors2)\n",
        "\n",
        "\n",
        "    # Traffic Light Colors Mapping\n",
        "    color_map = {\"red\": \"red\", \"yellow\": \"yellow\", \"green\": \"lime\"}\n",
        "    tl_colors = [color_map[state] for state in tl_states]\n",
        "\n",
        "    # Update legend colors dynamically\n",
        "    traffic_light_legend.set_color(tl_colors)\n",
        "\n",
        "\n",
        "    if frame % 100 == 0:\n",
        "      pass\n",
        "      # print(f\"Frame: {frame}\")\n",
        "    return scatter, scatter2\n",
        "\n",
        "\n",
        "\n",
        "ani = animation.FuncAnimation(fig, update, frames=range(0, 13000, 10), interval=100, blit=False)\n",
        "ax.grid()\n",
        "ax.set_title(\"Based on Cell ID\")\n",
        "ax2.grid()\n",
        "ax2.set_title(\"Based on Link ID\")\n",
        "ani.save(\"first_animation.gif\", writer=\"pillow\")"
      ]
    },
    {
      "cell_type": "markdown",
      "metadata": {
        "id": "naZXfZlqKUIb"
      },
      "source": [
        "Things that should be done here now: Vehicles that do not move for more than a threshold of a time, they should be removed (These are the vehicles that are just stopped there). Vehicles that are in the network for a short period of time should be removed (These are the vehicels that are on the minor roads)."
      ]
    },
    {
      "cell_type": "markdown",
      "metadata": {
        "id": "hDDu0_WLKqTq"
      },
      "source": [
        "## Removing stopped vehicles for a long time"
      ]
    },
    {
      "cell_type": "code",
      "execution_count": null,
      "metadata": {
        "id": "jYHChpLY_a9H"
      },
      "outputs": [],
      "source": [
        "modified_data = data.copy()\n",
        "modified_data[\"stopped\"] = modified_data[\"speed\"] <0.5"
      ]
    },
    {
      "cell_type": "code",
      "execution_count": null,
      "metadata": {
        "colab": {
          "base_uri": "https://localhost:8080/"
        },
        "id": "1XkGQ2D7M-t6",
        "outputId": "21043ce5-90b6-450c-dac4-1532e48225bc"
      },
      "outputs": [],
      "source": [
        "print(modified_data[\"stopped\"].shape)"
      ]
    },
    {
      "cell_type": "code",
      "execution_count": null,
      "metadata": {
        "id": "T3mghDqsQEdL"
      },
      "outputs": [],
      "source": [
        "# prompt: modified_data[\"stopped\"] is either true or false. If a vehicles is stopped more than 50 seconds (THRESHOLD) I want it all rows for tat amount of time to be eliminated\n",
        "\n",
        "THRESHOLD = 25  # seconds\n",
        "\n",
        "# Group by 'veh_id' and 'link_id'\n",
        "grouped_vehicles = modified_data.groupby(['veh_id', 'link_id'])\n",
        "\n",
        "# Initialize an empty list to store the indices of rows to remove\n",
        "indices_to_remove = []\n",
        "\n",
        "for (veh_id, link_id), group in grouped_vehicles:\n",
        "    # Find consecutive stopped periods\n",
        "    stopped_periods = []\n",
        "    current_period_start = None\n",
        "    for index, row in group.iterrows():\n",
        "        if row['stopped']:\n",
        "            if current_period_start is None:\n",
        "                current_period_start = index\n",
        "        elif current_period_start is not None:\n",
        "            stopped_periods.append((current_period_start, index - 1))  # Store the start and end indices\n",
        "            current_period_start = None\n",
        "    if current_period_start is not None:\n",
        "        stopped_periods.append((current_period_start, group.index[-1])) # Handling case where vehicle is stopped at end of its trajectory\n",
        "\n",
        "    # Identify and store indices of long stopped periods to remove\n",
        "    for start_index, end_index in stopped_periods:\n",
        "        duration = (group.loc[end_index, 'time'] - group.loc[start_index, 'time'])\n",
        "        if duration > THRESHOLD:\n",
        "            indices_to_remove.extend(range(start_index, end_index+1))\n",
        "\n",
        "# Remove the identified rows from the DataFrame\n",
        "# modified_data = modified_data.drop(index=indices_to_remove)\n"
      ]
    },
    {
      "cell_type": "code",
      "execution_count": null,
      "metadata": {
        "id": "qwDgi-zH9lTV"
      },
      "outputs": [],
      "source": [
        "remvoed_long_stopped_data = modified_data.drop(index=indices_to_remove)"
      ]
    },
    {
      "cell_type": "code",
      "execution_count": null,
      "metadata": {
        "colab": {
          "base_uri": "https://localhost:8080/"
        },
        "id": "ksgERnurOMUJ",
        "outputId": "e572a872-d999-49d4-d6a9-4f8fd74aa24f"
      },
      "outputs": [],
      "source": [
        "print(remvoed_long_stopped_data.shape, modified_data.shape)"
      ]
    },
    {
      "cell_type": "markdown",
      "metadata": {
        "id": "80DOgTSyOP3r"
      },
      "source": [
        "## Remove vehilces that appear on minor road"
      ]
    },
    {
      "cell_type": "code",
      "execution_count": null,
      "metadata": {
        "colab": {
          "base_uri": "https://localhost:8080/"
        },
        "id": "JcQtA-28j53-",
        "outputId": "ec812f33-3b7b-4ecd-b93d-4d69a7703717"
      },
      "outputs": [],
      "source": [
        "import numpy as np\n",
        "\n",
        "def calculate_bearing(lat1, lon1, lat2, lon2):\n",
        "    lat1, lon1, lat2, lon2 = map(np.radians, [lat1, lon1, lat2, lon2])\n",
        "    delta_lon = lon2 - lon1\n",
        "\n",
        "    x = np.sin(delta_lon) * np.cos(lat2)\n",
        "    y = np.cos(lat1) * np.sin(lat2) - np.sin(lat1) * np.cos(lat2) * np.cos(delta_lon)\n",
        "\n",
        "    bearing = np.degrees(np.arctan2(x, y))\n",
        "    return (bearing + 360) % 360\n",
        "\n",
        "# Example:\n",
        "lat1, lon1 = 44.9727, -93.2354  # Point 1\n",
        "lat2, lon2 = 44.9730, -93.2360  # Point 2\n",
        "direction = calculate_bearing(lat1, lon1, lat2, lon2)\n",
        "print(f\"Bearing: {direction:.2f}°\")"
      ]
    },
    {
      "cell_type": "code",
      "execution_count": null,
      "metadata": {
        "id": "XQgVCtR7OOB7"
      },
      "outputs": [],
      "source": [
        "fully_modified_data = remvoed_long_stopped_data.copy().sort_values(by=[\"veh_id\", \"time\"])\n",
        "fully_modified_data[[\"lat_shifted\", \"shifted_lon\", \"veh_id_shifted\"]] = fully_modified_data.shift(1)[[\"lat\", \"lon\", \"veh_id\"]]\n",
        "bearings = []\n",
        "\n",
        "for index, row in fully_modified_data.iterrows():\n",
        "  bearing = 0\n",
        "  if row[\"veh_id\"] == row[\"veh_id_shifted\"]:\n",
        "    bearing = calculate_bearing(row[\"lat\"], row[\"lon\"], row[\"lat_shifted\"], row[\"shifted_lon\"])\n",
        "  bearings.append(bearing)\n",
        "fully_modified_data[\"bearing\"] = bearings"
      ]
    },
    {
      "cell_type": "code",
      "execution_count": null,
      "metadata": {
        "colab": {
          "base_uri": "https://localhost:8080/"
        },
        "id": "wK7aHX-Dr9V2",
        "outputId": "17b698e3-047a-41e4-9b26-27138ebd28c7"
      },
      "outputs": [],
      "source": [
        "grouped = fully_modified_data.groupby(\"veh_id\")\n",
        "for name, group in grouped:\n",
        "  bearing_without_zero = group[group[\"bearing\"] != 0][\"bearing\"]\n",
        "\n",
        "  print(bearing_without_zero.mean(), name)"
      ]
    },
    {
      "cell_type": "code",
      "execution_count": null,
      "metadata": {
        "colab": {
          "base_uri": "https://localhost:8080/",
          "height": 480
        },
        "id": "ds17tVWduUKM",
        "outputId": "0094f05a-37c9-4349-9b6a-36521bd2feb5"
      },
      "outputs": [],
      "source": [
        "veh_df = fully_modified_data[fully_modified_data[\"veh_id\"] == 884]\n",
        "plt.plot(veh_df[\"lat\"], veh_df[\"lon\"])"
      ]
    },
    {
      "cell_type": "markdown",
      "metadata": {
        "id": "riMb0w0tteUg"
      },
      "source": [
        "## Filtering with bearing"
      ]
    },
    {
      "cell_type": "code",
      "execution_count": null,
      "metadata": {
        "colab": {
          "base_uri": "https://localhost:8080/",
          "height": 461
        },
        "id": "92dIZZuWsHlq",
        "outputId": "214c4db4-8603-462c-bc21-6fd21b7acbb8"
      },
      "outputs": [],
      "source": [
        "fully_modified_data_without_zeros = fully_modified_data[fully_modified_data[\"bearing\"] != 0]\n",
        "mean_bearings = fully_modified_data_without_zeros.groupby(\"link_id\")[\"bearing\"].mean()\n",
        "fully_modified_data_temp = fully_modified_data[\n",
        "    fully_modified_data.apply(\n",
        "        lambda x: ((x[\"bearing\"] / mean_bearings[x[\"link_id\"]]) <= 1.5 and\n",
        "                  (x[\"bearing\"] / mean_bearings[x[\"link_id\"]]) >= 0.7) or\n",
        "                  (x[\"bearing\"] == 0.0),\n",
        "        axis=1\n",
        "    )\n",
        "]\n",
        "fully_modified_data_temp"
      ]
    },
    {
      "cell_type": "code",
      "execution_count": null,
      "metadata": {
        "colab": {
          "base_uri": "https://localhost:8080/"
        },
        "id": "ik5iZpPlvJmN",
        "outputId": "a9b3e14c-0667-4a5f-cb8e-b192d3a4c870"
      },
      "outputs": [],
      "source": [
        "grouped = fully_modified_data_temp.groupby(\"veh_id\")\n",
        "for name, group in grouped:\n",
        "  bearing_without_zero = group[group[\"bearing\"] != 0][\"bearing\"]\n",
        "  print(bearing_without_zero.mean(), name)"
      ]
    },
    {
      "cell_type": "markdown",
      "metadata": {
        "id": "lsrsO2BJthUp"
      },
      "source": [
        "## Filter with the slope sign"
      ]
    },
    {
      "cell_type": "code",
      "execution_count": null,
      "metadata": {
        "id": "uP5xHEivtly4"
      },
      "outputs": [],
      "source": [
        "from sklearn.linear_model import LinearRegression\n",
        "\n",
        "veh_ids_to_be_removed = []\n",
        "\n",
        "for veh_id, group in fully_modified_data_temp.groupby(\"veh_id\"):\n",
        "  model = LinearRegression()\n",
        "  model.fit(group[\"lat\"].values.reshape(-1, 1), group[\"lon\"])\n",
        "  slope = model.coef_[0]\n",
        "  if slope > 0:\n",
        "    veh_ids_to_be_removed.append(veh_id)\n"
      ]
    },
    {
      "cell_type": "code",
      "execution_count": null,
      "metadata": {
        "id": "NuT8Whn6yLi9"
      },
      "outputs": [],
      "source": [
        "fully_modified_data_temp = fully_modified_data_temp[~fully_modified_data_temp[\"veh_id\"].isin(veh_ids_to_be_removed)]"
      ]
    },
    {
      "cell_type": "code",
      "execution_count": null,
      "metadata": {
        "id": "JWkSIEttRce4"
      },
      "outputs": [],
      "source": [
        "summation = fully_modified_data_temp.groupby(\"veh_id\")['bearing'].sum().reset_index()\n",
        "ans = summation[summation[\"bearing\"] == 0]\n",
        "filtered_df = fully_modified_data_temp[~fully_modified_data_temp[\"veh_id\"].isin(ans[\"veh_id\"].values)]"
      ]
    },
    {
      "cell_type": "markdown",
      "metadata": {
        "id": "q-3CtyKWSy5r"
      },
      "source": [
        "# Recreating the animation"
      ]
    },
    {
      "cell_type": "code",
      "execution_count": null,
      "metadata": {
        "colab": {
          "base_uri": "https://localhost:8080/"
        },
        "id": "H6kaADm-Sn7A",
        "outputId": "15a460a4-1d09-4008-b134-db129e62339a"
      },
      "outputs": [],
      "source": [
        "grouped = filtered_df.groupby('time')\n",
        "grouped_dict = {}\n",
        "for time, group in grouped:\n",
        "  grouped_dict[time] = group\n",
        "from os import times\n",
        "import numpy as np\n",
        "import matplotlib.pyplot as plt\n",
        "import matplotlib.animation as animation\n",
        "from matplotlib import rc\n",
        "rc('animation', html='jshtml')\n",
        "\n",
        "import hashlib\n",
        "max_link_id = filtered_df[\"link_id\"].values.max()\n",
        "max_cell_id = {link_id:pd.to_numeric(filtered_df[filtered_df[\"link_id\"] == link_id][\"closest_cell\"].str.extract(r'(\\d+)')[0], errors='coerce').max() for link_id in filtered_df[\"link_id\"].unique()}\n",
        "first_df = grouped_dict[list(grouped_dict.keys())[0]]\n",
        "\n",
        "def color_finder_link(link_id):\n",
        "    # Convert hash to an integer\n",
        "    return link_id / max_link_id  # Normalize to range [0,1]\n",
        "\n",
        "def color_finder_cell(cell_id, link_id):\n",
        "  cell_id = int(cell_id.split(\"_\")[1])\n",
        "  return cell_id / max_cell_id[link_id]  # Normalize to range [0,1]\n",
        "\n",
        "fig = plt.figure(figsize=(12, 8))\n",
        "\n",
        "# Create GridSpec to control layout\n",
        "gs = fig.add_gridspec(2, 2, height_ratios=[1, 5])  # 1 row for legend, 5 for plots\n",
        "\n",
        "# Create legend axis spanning both columns\n",
        "legend_ax = fig.add_subplot(gs[0, :])  # Full-width top row\n",
        "\n",
        "# Create the main plots below\n",
        "ax = fig.add_subplot(gs[1, 0])  # Left plot\n",
        "ax2 = fig.add_subplot(gs[1, 1])  # Right plot\n",
        "\n",
        "scatter = ax.scatter([], [], c=[], s=20, cmap=\"twilight\", edgecolor=\"k\", vmin=0, vmax=1)\n",
        "scatter2 = ax2.scatter([], [], c=[], s=20, cmap=\"twilight\", edgecolor=\"k\", vmin=0, vmax=1)\n",
        "x_min = min(first_df[\"lon\"].values)\n",
        "x_max = max(first_df[\"lon\"].values)\n",
        "y_min = min(first_df[\"lat\"].values)\n",
        "y_max = min(first_df[\"lat\"].values)\n",
        "ax.axis([x_min-0.0025, x_max + 0.0025, y_min-0.0025, y_max+0.008])\n",
        "ax2.axis([x_min-0.0025, x_max + 0.0025, y_min-0.0025, y_max+0.008])\n",
        "\n",
        "\n",
        "# Traffic Light Indicator Positions\n",
        "traffic_light_labels = [\"1\", \"2\", \"3\", \"4\"]\n",
        "traffic_light_positions = np.linspace(0.2, 0.8, 4)  # Evenly spaced\n",
        "\n",
        "# Create traffic light legend (scatter plot)\n",
        "traffic_light_legend = legend_ax.scatter(\n",
        "    traffic_light_positions, [0.5] * 4,  # Fixed y-position\n",
        "    s=200, edgecolor=\"black\", zorder=3\n",
        ")\n",
        "traffic_light_labels = list(traffic_light_states.keys())\n",
        "# Add Text Labels\n",
        "# for i, (pos, label) in enumerate(zip(traffic_light_positions, traffic_light_labels)):\n",
        "#     legend_ax.text(pos, 0.7, label, ha=\"center\", fontsize=12, fontweight=\"bold\")\n",
        "\n",
        "# Hide axes for cleaner display\n",
        "legend_ax.set_xticks([])\n",
        "legend_ax.set_yticks([])\n",
        "legend_ax.set_frame_on(False)\n",
        "\n",
        "\n",
        "\n",
        "# Function to generate random data\n",
        "def generate_data(frame):\n",
        "    timestamp = list(grouped_dict.keys())[frame]\n",
        "\n",
        "    dataframe = grouped_dict[timestamp]\n",
        "    x = dataframe[\"lon\"].values\n",
        "    y = dataframe[\"lat\"].values\n",
        "    colors = [color_finder_cell(row[\"closest_cell\"], row[\"link_id\"]) for index, row in dataframe[[\"closest_cell\", \"link_id\"]].iterrows()]\n",
        "    colors2 = [color_finder_link(link_id) for link_id in dataframe[\"link_id\"].values]\n",
        "    fig.suptitle(f\"Time: {timestamp}\", fontsize=16)\n",
        "\n",
        "    tl_states = [traffic_light_states[tl][str(timestamp)] for tl in traffic_light_labels]\n",
        "\n",
        "    return x, y, colors, colors2, tl_states\n",
        "\n",
        "# Animation update function\n",
        "def update(frame):\n",
        "    x, y, colors, colors2, tl_states = generate_data(frame)\n",
        "    # print(x, y)\n",
        "    scatter.set_offsets(np.column_stack((x, y)))\n",
        "    scatter2.set_offsets(np.column_stack((x, y)))\n",
        "    scatter.set_array(colors)\n",
        "    scatter2.set_array(colors2)\n",
        "\n",
        "\n",
        "    # Traffic Light Colors Mapping\n",
        "    color_map = {\"red\": \"red\", \"yellow\": \"yellow\", \"green\": \"lime\"}\n",
        "    tl_colors = [color_map[state] for state in tl_states]\n",
        "\n",
        "    # Update legend colors dynamically\n",
        "    traffic_light_legend.set_color(tl_colors)\n",
        "\n",
        "\n",
        "    if frame % 100 == 0:\n",
        "      pass\n",
        "      # print(f\"Frame: {frame}\")\n",
        "    return scatter, scatter2\n",
        "\n",
        "\n",
        "\n",
        "ani = animation.FuncAnimation(fig, update, frames=range(0, 13000, 10), interval=100, blit=False)\n",
        "ax.grid()\n",
        "ax.set_title(\"Based on Cell ID\")\n",
        "ax2.grid()\n",
        "ax2.set_title(\"Based on Link ID\")\n",
        "ani.save(\"second_animation.gif\", writer=\"pillow\")"
      ]
    },
    {
      "cell_type": "markdown",
      "metadata": {
        "id": "nhpwrXWQWIi_"
      },
      "source": [
        "# Animations"
      ]
    },
    {
      "cell_type": "markdown",
      "metadata": {
        "id": "y62R05_8WK3Z"
      },
      "source": [
        "## Before cleaning the data"
      ]
    },
    {
      "cell_type": "code",
      "execution_count": null,
      "metadata": {
        "id": "XL-FMPdcTZlZ"
      },
      "outputs": [],
      "source": [
        "from IPython.display import display, Image\n",
        "\n",
        "display(Image(filename=\"first_animation.gif\"))\n"
      ]
    },
    {
      "cell_type": "markdown",
      "metadata": {
        "id": "mXwiSKrWWM7p"
      },
      "source": [
        "## After cleaning data"
      ]
    },
    {
      "cell_type": "code",
      "execution_count": null,
      "metadata": {
        "colab": {
          "base_uri": "https://localhost:8080/",
          "height": 141
        },
        "id": "mTECfNsjWDjx",
        "outputId": "3069bdd5-7ab7-4d3b-91a4-d29db1c1c1fa"
      },
      "outputs": [],
      "source": [
        "display(Image(filename=\"second_animation.gif\"))"
      ]
    },
    {
      "cell_type": "markdown",
      "metadata": {
        "id": "uLmJq9RRClxb"
      },
      "source": [
        "Although the data was rather fine, but now we have a more clean data!"
      ]
    },
    {
      "cell_type": "code",
      "execution_count": null,
      "metadata": {
        "id": "OeJyKIhZAPmM"
      },
      "outputs": [],
      "source": [
        "filtered_df.to_csv(\"20181024_d1_0830_0900_segmented_oneaxistrajectory_cell_filtered.csv\")"
      ]
    },
    {
      "cell_type": "markdown",
      "metadata": {
        "id": "FfGg8aD7CrLn"
      },
      "source": [
        "## Finding the denstiy"
      ]
    },
    {
      "cell_type": "markdown",
      "metadata": {
        "id": "l1XnkdSoClBE"
      },
      "source": [
        "### Basic density (without considering the length of the car)"
      ]
    },
    {
      "cell_type": "code",
      "execution_count": null,
      "metadata": {
        "colab": {
          "base_uri": "https://localhost:8080/",
          "height": 487
        },
        "id": "6iegN4lL8WWd",
        "outputId": "0ef64858-bd1d-4c16-c33c-9aedc9d6c098"
      },
      "outputs": [],
      "source": [
        "from shapely.wkt import loads\n",
        "segments_gdf_exploded = pd.read_csv(\"20181024_d1_0830_0900_segments_gdf_exploded.csv\")\n",
        "segments_gdf_exploded[\"geometry\"] = segments_gdf_exploded[\"geometry\"].apply(loads)\n",
        "for column in segments_gdf_exploded.columns[segments_gdf_exploded.columns.str.contains(\"cell_\")]:\n",
        "  segments_gdf_exploded[column] = segments_gdf_exploded[column].apply(lambda x: loads(x) if pd.notna(x) else None)\n",
        "segments_gdf_exploded"
      ]
    },
    {
      "cell_type": "code",
      "execution_count": null,
      "metadata": {
        "colab": {
          "base_uri": "https://localhost:8080/",
          "height": 356
        },
        "id": "mIVcNtyfKdOb",
        "outputId": "e41cf540-67ae-4bc1-f1e3-fa49f4d387fd"
      },
      "outputs": [],
      "source": [
        "from geopy.distance import geodesic\n",
        "\n",
        "\n",
        "veh_counts = filtered_df.groupby([\"time\", \"link_id\",\"closest_cell\"]).size().reset_index(name=\"count\")\n",
        "segments_gdf_exploded_lengths = segments_gdf_exploded.copy()\n",
        "\n",
        "def get_cell_length_meters(line_string):\n",
        "  pt1 = line_string.coords[0]\n",
        "  pt2 = line_string.coords[-1]\n",
        "  return geodesic(pt1, pt2).meters\n",
        "\n",
        "for index, row in segments_gdf_exploded_lengths.iterrows():\n",
        "  for column in segments_gdf_exploded_lengths.columns[segments_gdf_exploded_lengths.columns.str.contains(\"cell_\")]:\n",
        "    if row[column] is not None:\n",
        "      segments_gdf_exploded_lengths.at[index, column] = get_cell_length_meters(row[column])\n",
        "\n",
        "densities = []\n",
        "\n",
        "\n",
        "for index, row in veh_counts.iterrows():\n",
        "  cell_id = row[\"closest_cell\"]\n",
        "  link_id = row[\"link_id\"]\n",
        "  count = row[\"count\"]\n",
        "  cell_length = segments_gdf_exploded_lengths[segments_gdf_exploded_lengths[\"link_id\"] == link_id][cell_id].iloc[0]\n",
        "  density = count/cell_length\n",
        "  densities.append(density)\n",
        "\n",
        "veh_counts[\"density\"] = densities"
      ]
    },
    {
      "cell_type": "code",
      "execution_count": null,
      "metadata": {
        "colab": {
          "base_uri": "https://localhost:8080/",
          "height": 424
        },
        "id": "pLz96pt2iH2g",
        "outputId": "74a1f350-305a-4819-898e-074802e4bc68"
      },
      "outputs": [],
      "source": [
        "veh_counts"
      ]
    },
    {
      "cell_type": "code",
      "execution_count": null,
      "metadata": {
        "id": "CC46LUTrosk2"
      },
      "outputs": [],
      "source": [
        "veh_counts.to_csv(\"20181024_d1_0830_0900_veh_counts.csv\")"
      ]
    },
    {
      "cell_type": "code",
      "execution_count": null,
      "metadata": {
        "colab": {
          "base_uri": "https://localhost:8080/",
          "height": 424
        },
        "id": "gYc6F_PspN7y",
        "outputId": "11a93f51-e59e-46bc-e372-1e11ea7e8983"
      },
      "outputs": [],
      "source": [
        "veh_list = filtered_df.groupby([\"time\", \"link_id\", \"closest_cell\"])[\"veh_id\"].agg(list).reset_index(name=\"veh_ids\")\n",
        "veh_list = veh_list.sort_values(by=[\"link_id\", \"closest_cell\", \"time\"])\n",
        "veh_list"
      ]
    },
    {
      "cell_type": "code",
      "execution_count": null,
      "metadata": {
        "id": "9fMTbJtazP2g"
      },
      "outputs": [],
      "source": [
        "veh_list_with_flow = veh_list.copy()\n",
        "veh_list_groups = veh_list_with_flow.groupby([\"link_id\", \"closest_cell\"])\n",
        "for name, group in veh_list_groups:\n",
        "  group[\"previous_veh_ids\"] = group[\"veh_ids\"].shift(1)\n",
        "  group[\"previous_veh_ids\"] = group[\"previous_veh_ids\"].apply(lambda x: x if isinstance(x, list) else [])\n",
        "\n",
        "  group[\"next_veh_ids\"] = group[\"veh_ids\"].shift(-1)\n",
        "  group[\"next_veh_ids\"] = group[\"next_veh_ids\"].apply(lambda x: x if isinstance(x, list) else [])\n",
        "\n",
        "  group[\"exit\"] = group.apply(lambda x: len(set(x[\"previous_veh_ids\"]) - set(x[\"veh_ids\"])), axis=1)\n",
        "  group[\"entry\"] = group.apply(lambda x: len(set(x[\"veh_ids\"]) - set(x[\"next_veh_ids\"])), axis=1)\n",
        "\n",
        "  veh_list_with_flow.loc[group.index, [\"previous_veh_ids\", \"next_veh_ids\", \"exit\", \"entry\"]] = group[[\"previous_veh_ids\", \"next_veh_ids\", \"exit\", \"entry\"]]\n"
      ]
    },
    {
      "cell_type": "code",
      "execution_count": null,
      "metadata": {
        "id": "VuNG3HvK3Eqe"
      },
      "outputs": [],
      "source": [
        "veh_list_with_flow"
      ]
    },
    {
      "cell_type": "code",
      "execution_count": null,
      "metadata": {
        "id": "_qwe3hfl3Ka5"
      },
      "outputs": [],
      "source": [
        "veh_density_flow = veh_list_with_flow.join(\n",
        "    veh_counts.set_index([\"link_id\", \"closest_cell\", \"time\"])[[\"density\"]],\n",
        "    on=[\"link_id\", \"closest_cell\", \"time\"]\n",
        ")\n",
        "veh_density_flow.to_csv(\"20181024_d1_0830_0900_veh_density_flow.csv\")"
      ]
    },
    {
      "cell_type": "code",
      "execution_count": null,
      "metadata": {
        "colab": {
          "base_uri": "https://localhost:8080/",
          "height": 424
        },
        "id": "0iz78btO9Voi",
        "outputId": "72527e3c-126c-4f39-8c71-35bb39b1bcfc"
      },
      "outputs": [],
      "source": [
        "import pandas as pd\n",
        "veh_density_flow = pd.read_csv(\"20181024_d1_0830_0900_veh_density_flow.csv\")\n",
        "veh_density_flow"
      ]
    },
    {
      "cell_type": "markdown",
      "metadata": {
        "id": "FtMFVdu95LT3"
      },
      "source": [
        "# CTM Model"
      ]
    },
    {
      "cell_type": "code",
      "execution_count": 3,
      "metadata": {
        "id": "6--aQCN8NiXK"
      },
      "outputs": [],
      "source": [
        "import pandas as pd\n",
        "import numpy as np\n",
        "import matplotlib.pyplot as plt\n",
        "import matplotlib.animation as animation\n",
        "import geopandas as gpd\n",
        "from matplotlib import rc\n",
        "import pickle\n",
        "from shapely.wkt import loads\n",
        "import ast\n",
        "\n",
        "\n",
        "rc('animation', html='jshtml')"
      ]
    },
    {
      "cell_type": "code",
      "execution_count": null,
      "metadata": {
        "colab": {
          "base_uri": "https://localhost:8080/"
        },
        "id": "M2aAz4UzYat0",
        "outputId": "d2bd75a0-f51d-46bd-8527-6c7dfe3fd8aa"
      },
      "outputs": [],
      "source": [
        "from google.colab import drive\n",
        "drive.mount('/content/drive')"
      ]
    },
    {
      "cell_type": "markdown",
      "metadata": {
        "id": "r6sEbUNsMzaK"
      },
      "source": [
        "## Loading the data"
      ]
    },
    {
      "cell_type": "code",
      "execution_count": 4,
      "metadata": {
        "id": "KRWrb3kjM1QK"
      },
      "outputs": [],
      "source": [
        "veh_density_flow = pd.read_csv(\"20181024_d1_0830_0900_veh_density_flow.csv\")\n",
        "filtered_df = pd.read_csv(\"20181024_d1_0830_0900_segmented_oneaxistrajectory_cell_filtered.csv\")\n",
        "traffic_lights_df = pd.read_csv(\"traffic_lights.csv\")\n",
        "segments_gdf_exploded = pd.read_csv(\"20181024_d1_0830_0900_segments_gdf_exploded.csv\")\n",
        "with open(\"traffic_info_dict.pkl\", \"rb\") as f:\n",
        "    traffic_lights_dict_states = pickle.load(f)\n",
        "\n",
        "segments_gdf_exploded[\"geometry\"] = segments_gdf_exploded[\"geometry\"].apply(loads)\n",
        "for column in segments_gdf_exploded.columns[segments_gdf_exploded.columns.str.contains(\"cell_\")]:\n",
        "  segments_gdf_exploded[column] = segments_gdf_exploded[column].apply(lambda x: loads(x) if pd.notna(x) else None)"
      ]
    },
    {
      "cell_type": "markdown",
      "metadata": {},
      "source": [
        "Cars that are in the first link but not in the last link"
      ]
    },
    {
      "cell_type": "code",
      "execution_count": 16,
      "metadata": {},
      "outputs": [
        {
          "data": {
            "text/plain": [
              "{27,\n",
              " 28,\n",
              " 29,\n",
              " 30,\n",
              " 31,\n",
              " 32,\n",
              " 33,\n",
              " 34,\n",
              " 35,\n",
              " 36,\n",
              " 38,\n",
              " 39,\n",
              " 40,\n",
              " 43,\n",
              " 44,\n",
              " 46,\n",
              " 47,\n",
              " 50,\n",
              " 64,\n",
              " 70,\n",
              " 74,\n",
              " 76,\n",
              " 90,\n",
              " 95,\n",
              " 97,\n",
              " 102,\n",
              " 106,\n",
              " 110,\n",
              " 112,\n",
              " 113,\n",
              " 115,\n",
              " 118,\n",
              " 126,\n",
              " 127,\n",
              " 130,\n",
              " 132,\n",
              " 136,\n",
              " 140,\n",
              " 144,\n",
              " 146,\n",
              " 152,\n",
              " 161,\n",
              " 162,\n",
              " 164,\n",
              " 165,\n",
              " 167,\n",
              " 168,\n",
              " 172,\n",
              " 174,\n",
              " 175,\n",
              " 176,\n",
              " 179,\n",
              " 180,\n",
              " 181,\n",
              " 182,\n",
              " 184,\n",
              " 185,\n",
              " 186,\n",
              " 196,\n",
              " 201,\n",
              " 202,\n",
              " 208,\n",
              " 215,\n",
              " 217,\n",
              " 220,\n",
              " 221,\n",
              " 223,\n",
              " 225,\n",
              " 232,\n",
              " 233,\n",
              " 234,\n",
              " 236,\n",
              " 239,\n",
              " 242,\n",
              " 248,\n",
              " 251,\n",
              " 253,\n",
              " 254,\n",
              " 255,\n",
              " 256,\n",
              " 257,\n",
              " 258,\n",
              " 259,\n",
              " 262,\n",
              " 263,\n",
              " 264,\n",
              " 265,\n",
              " 266,\n",
              " 269,\n",
              " 270,\n",
              " 271,\n",
              " 275,\n",
              " 276,\n",
              " 285,\n",
              " 286,\n",
              " 288,\n",
              " 290,\n",
              " 296,\n",
              " 297,\n",
              " 298,\n",
              " 299,\n",
              " 301,\n",
              " 303,\n",
              " 304,\n",
              " 309,\n",
              " 310,\n",
              " 324,\n",
              " 329,\n",
              " 330,\n",
              " 333,\n",
              " 336,\n",
              " 340,\n",
              " 341,\n",
              " 344,\n",
              " 345,\n",
              " 347,\n",
              " 349,\n",
              " 350,\n",
              " 351,\n",
              " 352,\n",
              " 353,\n",
              " 355,\n",
              " 357,\n",
              " 364,\n",
              " 365,\n",
              " 366,\n",
              " 367,\n",
              " 368,\n",
              " 370,\n",
              " 371,\n",
              " 372,\n",
              " 373,\n",
              " 374,\n",
              " 375,\n",
              " 378,\n",
              " 379,\n",
              " 382,\n",
              " 384,\n",
              " 385,\n",
              " 386,\n",
              " 388,\n",
              " 392,\n",
              " 400,\n",
              " 401,\n",
              " 402,\n",
              " 422,\n",
              " 427,\n",
              " 428,\n",
              " 431,\n",
              " 435,\n",
              " 437,\n",
              " 438,\n",
              " 439,\n",
              " 444,\n",
              " 446,\n",
              " 447,\n",
              " 449,\n",
              " 450,\n",
              " 451,\n",
              " 457,\n",
              " 458,\n",
              " 459,\n",
              " 461,\n",
              " 466,\n",
              " 467,\n",
              " 469,\n",
              " 470,\n",
              " 471,\n",
              " 472,\n",
              " 482,\n",
              " 484,\n",
              " 486,\n",
              " 515,\n",
              " 520,\n",
              " 522,\n",
              " 525,\n",
              " 527,\n",
              " 528,\n",
              " 529,\n",
              " 530,\n",
              " 539,\n",
              " 540,\n",
              " 542,\n",
              " 544,\n",
              " 546,\n",
              " 547,\n",
              " 549,\n",
              " 550,\n",
              " 558,\n",
              " 560,\n",
              " 561,\n",
              " 562,\n",
              " 569,\n",
              " 572,\n",
              " 574,\n",
              " 575,\n",
              " 577,\n",
              " 579,\n",
              " 581,\n",
              " 585,\n",
              " 587,\n",
              " 592,\n",
              " 595,\n",
              " 610,\n",
              " 614,\n",
              " 615,\n",
              " 616,\n",
              " 622,\n",
              " 623,\n",
              " 627,\n",
              " 629,\n",
              " 630,\n",
              " 631,\n",
              " 634,\n",
              " 638,\n",
              " 648,\n",
              " 649,\n",
              " 650,\n",
              " 651,\n",
              " 652,\n",
              " 654,\n",
              " 655,\n",
              " 659,\n",
              " 660,\n",
              " 663,\n",
              " 665,\n",
              " 666,\n",
              " 669,\n",
              " 677,\n",
              " 679,\n",
              " 683,\n",
              " 685,\n",
              " 703,\n",
              " 706,\n",
              " 707,\n",
              " 708,\n",
              " 709,\n",
              " 710,\n",
              " 713,\n",
              " 714,\n",
              " 717,\n",
              " 719,\n",
              " 721,\n",
              " 722,\n",
              " 729,\n",
              " 730,\n",
              " 731,\n",
              " 732,\n",
              " 734,\n",
              " 736,\n",
              " 740,\n",
              " 749,\n",
              " 752,\n",
              " 753,\n",
              " 755,\n",
              " 757,\n",
              " 763,\n",
              " 765,\n",
              " 767,\n",
              " 770,\n",
              " 774,\n",
              " 779,\n",
              " 781,\n",
              " 782,\n",
              " 783,\n",
              " 795,\n",
              " 796,\n",
              " 799,\n",
              " 800,\n",
              " 801,\n",
              " 804,\n",
              " 805,\n",
              " 806,\n",
              " 808,\n",
              " 809,\n",
              " 811,\n",
              " 812,\n",
              " 813,\n",
              " 814,\n",
              " 815,\n",
              " 818,\n",
              " 819,\n",
              " 820,\n",
              " 822,\n",
              " 824,\n",
              " 836,\n",
              " 837,\n",
              " 839,\n",
              " 840,\n",
              " 844,\n",
              " 846,\n",
              " 847,\n",
              " 849,\n",
              " 850,\n",
              " 853,\n",
              " 854}"
            ]
          },
          "execution_count": 16,
          "metadata": {},
          "output_type": "execute_result"
        }
      ],
      "source": [
        "veh_by_link = filtered_df.groupby(\"link_id\")[\"veh_id\"].apply(set)\n",
        "veh_in_first_not_fourth = veh_by_link[0] - veh_by_link[4]\n",
        "veh_in_first_and_fourth = veh_by_link[0].intersection( veh_by_link[4])\n",
        "veh_in_first_and_fourth"
      ]
    },
    {
      "cell_type": "code",
      "execution_count": 26,
      "metadata": {},
      "outputs": [
        {
          "data": {
            "image/png": "[encoded data removed]",
            "text/plain": [
              "<Figure size 640x480 with 1 Axes>"
            ]
          },
          "metadata": {},
          "output_type": "display_data"
        }
      ],
      "source": [
        "veh_103 = filtered_df[filtered_df[\"veh_id\"] == 103]\n",
        "plt.plot(veh_103[\"lon\"], veh_103[\"lat\"], label=\"Vehicle 103\")\n",
        "veh_27 = filtered_df[filtered_df[\"veh_id\"] == 70]\n",
        "plt.scatter(veh_27[\"lon\"], veh_27[\"lat\"], c=veh_27[\"link_id\"], cmap=\"viridis\", label=\"Vehicle 27\", s=10)\n",
        "plt.grid()\n",
        "plt.title(\"Showing case of Vehicle 103 and Vehicle 27\")\n",
        "plt.xlabel(\"Longitude\")\n",
        "plt.ylabel(\"Latitude\")\n",
        "plt.legend()\n",
        "plt.show()"
      ]
    },
    {
      "cell_type": "markdown",
      "metadata": {
        "id": "dIOoDx1ZCMPD"
      },
      "source": [
        "## Histogram plot"
      ]
    },
    {
      "cell_type": "code",
      "execution_count": null,
      "metadata": {
        "colab": {
          "base_uri": "https://localhost:8080/",
          "height": 472
        },
        "id": "hiZ2C70x3eoo",
        "outputId": "2bd0500f-0f7f-433e-87d6-d84cd8b6f7ba"
      },
      "outputs": [],
      "source": [
        "import pandas as pd\n",
        "import matplotlib.pyplot as plt\n",
        "\n",
        "speeds = filtered_df['speed']\n",
        "\n",
        "plt.hist(speeds, bins=20, edgecolor='black')\n",
        "plt.title(\"Speed Distribution\")\n",
        "plt.xlabel(\"Speed (km/h)\")\n",
        "plt.ylabel(\"Frequency\")\n",
        "plt.grid()\n",
        "plt.show()"
      ]
    },
    {
      "cell_type": "code",
      "execution_count": null,
      "metadata": {
        "id": "JX3MZEzzHBd5"
      },
      "outputs": [],
      "source": [
        "import sys\n",
        "sys.path.append('/content/drive/MyDrive/eager_project')  # Adjust this path to your module's location"
      ]
    },
    {
      "cell_type": "markdown",
      "metadata": {
        "id": "CcBlpXQ5HhNR"
      },
      "source": [
        "## Importing Mazi's work"
      ]
    },
    {
      "cell_type": "markdown",
      "metadata": {
        "id": "7D9LaEoF6rk7"
      },
      "source": [
        "# Mazi edited this: added outflow"
      ]
    },
    {
      "cell_type": "markdown",
      "metadata": {
        "id": "eCm0fU4_6xsz"
      },
      "source": [
        "## Mazi Edited"
      ]
    },
    {
      "cell_type": "code",
      "execution_count": null,
      "metadata": {
        "id": "XwUFxfE4CljI"
      },
      "outputs": [],
      "source": [
        "from geopy.distance import geodesic\n",
        "\n",
        "\n",
        "segments_gdf_exploded_lengths = segments_gdf_exploded.copy()\n",
        "\n",
        "def get_cell_length_meters(line_string):\n",
        "  pt1 = line_string.coords[0]\n",
        "  pt2 = line_string.coords[-1]\n",
        "  return geodesic(pt1, pt2).meters\n",
        "\n",
        "for index, row in segments_gdf_exploded_lengths.iterrows():\n",
        "  for column in segments_gdf_exploded_lengths.columns[segments_gdf_exploded_lengths.columns.str.contains(\"cell_\")]:\n",
        "    if row[column] is not None:\n",
        "      segments_gdf_exploded_lengths.at[index, column] = get_cell_length_meters(row[column])\n",
        "\n",
        "\n",
        "# Some functions that will be used as tool, often used.\n",
        "class CTMParameters:\n",
        "    def __init__(self, vehicle_length=5, free_flow_speed=15, wave_speed=5, num_lanes=3):\n",
        "        \"\"\"\n",
        "        Initialize the parameters for the Cell Transmission Model.\n",
        "\n",
        "        Args:\n",
        "            cell_length (float): Length of each cell (meters).\n",
        "            free_flow_speed (float): Free flow speed (meters/second).\n",
        "            wave_speed (float): Backward wave speed (meters/second).\n",
        "            jam_density (float): Maximum density (vehicles/meter).\n",
        "        \"\"\"\n",
        "        # Default parameter values\n",
        "        self.num_lanes = num_lanes\n",
        "        # self.cell_length = cell_length\n",
        "        self.vehicle_length = vehicle_length\n",
        "        self.free_flow_speed = free_flow_speed\n",
        "        self.wave_speed = wave_speed\n",
        "        # self.jam_density = 150/1000 * cell_length * self.num_lanes\n",
        "        self.jam_density_link = 130  # jam density for the link: 130 vehicles per km\n",
        "        self.jam_density_FD = 150 * self.num_lanes # jam density for the road, vehciles per km\n",
        "        self.max_flow_link = 2000 / 3600 * self.num_lanes # vehicle per seconds\n",
        "\n",
        "\n",
        "        self.max_flow_link = 2000 / 3600 * self.num_lanes # vehicle per seconds\n",
        "\n",
        "\n",
        "\n",
        "    def max_flow(self, cell_length):\n",
        "        \"\"\"\n",
        "        Calculate the maximum flow in the system based on the fundamental diagram.\n",
        "\n",
        "        Returns:\n",
        "            float: Maximum flow (vehicles/second).\n",
        "        \"\"\"\n",
        "        return min(1800, min(self.free_flow_speed, self.wave_speed) * self.get_jam_density(cell_length) * self.num_lanes)\n",
        "\n",
        "    def get_time_step(self, cell_length):\n",
        "\n",
        "    # \"\"\"\n",
        "    # Calculate the time step for the simulation.\n",
        "\n",
        "    # Returns:\n",
        "    #     float: Time step (seconds).\n",
        "    # \"\"\"\n",
        "        return cell_length / self.free_flow_speed\n",
        "\n",
        "    def get_jam_density(self, cell_length):\n",
        "         return 150/1000 * cell_length * self.num_lanes\n",
        "\n",
        "import math\n",
        "# Notes for Maziar:\n",
        "## Do not use CTMParameters().object at all! If you use it, it will create a new object every time you call it. Instead, use the instance that you make of it!\n",
        "## Try avoidng using the istance of CTMParemeters as a global object. Instead, pass it as an argument to the functions that need it.\n",
        "## The docstring could be formatted for clarity: 1- Mention all parameters and their expected types! 2- Include an explanation of the function's output!\n",
        "## Check for invalid or empty densities.\n",
        "## Use descriptive variable names for better readability.\n",
        "## Avoid magic numbers like 1 for the green light status; use constants instead.\n",
        "\n",
        "# ctm_params = CTMParameters() # in this example, we use the default parameters\n",
        "\n",
        "## Cell transmission model: update cell density\n",
        "# arguments: densities: list of float + ctm_params: CTMParameters + entry_flow: float (flow of the first cell of the segment which comes from previous segments' outflow)\n",
        "# \" inflow is the number of vehicles enter from the previous cell to the current cell in one step\"\n",
        "# \" outflow is the number of vehicles exit from the current cell to the next cell in one step\"\n",
        "# assumptions: jam density and max flow are constant for all cells\n",
        "\n",
        "cell_lengths = {\n",
        "  link_id:segments_gdf_exploded_lengths[segments_gdf_exploded_lengths[\"link_id\"] == link_id].iloc[0][\"cell_1\"] for link_id in segments_gdf_exploded_lengths[\"link_id\"].unique()\n",
        "}\n",
        "\n",
        "def update_cell_status(time, segment_id, densities, outflows, ctm_params, entry_flow, traffic_lights_df, traffic_lights_dict_states): # Maz\n",
        "    num_cells = len(densities)\n",
        "    new_densities = densities.copy()\n",
        "    new_outflows = outflows.copy()     # Maz\n",
        "    cell_length = cell_lengths[segment_id]\n",
        "    dt = ctm_params.get_time_step(cell_length)\n",
        "    for i in range(num_cells):  # iterate over all cells\n",
        "        if i == 0:      # first cell\n",
        "            inflow = entry_flow # no inflow\n",
        "        else:           # for all other cells: minimum of max flow and the flow from the previous cell\n",
        "            inflow = min(ctm_params.max_flow(cell_length), ctm_params.free_flow_speed * densities[i-1] * dt, ctm_params.wave_speed * (ctm_params.get_jam_density(cell_length) - densities[i]) * dt)\n",
        "\n",
        "        if i == num_cells - 1:  # last cell\n",
        "            # check if there is a traffic light at the end of the segment\n",
        "            if is_tl(segment_id, traffic_lights_df):\n",
        "                # check the status of the traffic light\n",
        "                if tl_status(time, segment_id, traffic_lights_df, traffic_lights_dict_states) == 1: # green light\n",
        "                    outflow = min(ctm_params.max_flow(cell_length), ctm_params.free_flow_speed * densities[i] * dt, math.inf)\n",
        "                    new_outflows[i] = outflow\n",
        "                else:\n",
        "                    outflow = 0\n",
        "                    new_outflows[i] = outflow\n",
        "            else:\n",
        "                outflow = min(ctm_params.max_flow(cell_length), ctm_params.free_flow_speed * densities[i] * dt, math.inf)\n",
        "                new_outflows[i] = outflow # Maz\n",
        "        else:               # for all other cells: minimum of max flow and the flow to the next cell\n",
        "            outflow = min(ctm_params.max_flow(cell_length), ctm_params.free_flow_speed * densities[i] * dt, ctm_params.wave_speed * (ctm_params.get_jam_density(cell_length) - densities[i+1]) * dt)\n",
        "            new_outflows[i] = outflow # Maz\n",
        "        new_densities[i] = densities[i] + (inflow - outflow) / cell_length   # n(t+1) = n(t) + (y(i) - y(i+1))/dx\n",
        "\n",
        "    return new_densities, new_outflows # Maz\n",
        "\n",
        "# test the function\n",
        "# Density = [0.1, 0.15, 0, 0.2, 0.1, 0.1]\n",
        "# entry_flow = 0\n",
        "# time = 5\n",
        "# updated_density = update_cell_status(time, 1, Density, ctm_params, entry_flow)\n",
        "# print(updated_density)\n",
        "\n",
        "def traffic_light(segment_id, time):\n",
        "    pass # To Kian\n",
        "\n",
        "# # test the function\n",
        "# den = [0,0 ,0 , 0, 0]\n",
        "# print(veh_to_density(den, 20))\n",
        "# returns whether there is a traffic light at the end of the segment or not\n",
        "def is_tl(segment_id, traffic_lights_df):\n",
        "    if segment_id in traffic_lights_df.nearest_link_id.values:\n",
        "        return True\n",
        "    return False\n",
        "\n",
        "# returns status of the traffic light, green = 1, red = 0\n",
        "# note for Amir: you probably need to add (time, segment id) arguments to this function\n",
        "def tl_status(time, segment_id, traffic_lights_df, traffic_lights_dict_states):\n",
        "\n",
        "    # Now lets find the traffic light id in that segment\n",
        "    if segment_id in traffic_lights_df.nearest_link_id.values:\n",
        "        tl_id = traffic_lights_df[traffic_lights_df.nearest_link_id == segment_id].index[0]\n",
        "    # Extract the dataframe out of that dictionary that I made in the ctm_model.ipynb\n",
        "    traffic_light_status_df = traffic_lights_dict_states[tl_id]\n",
        "    # Finding the closest time to the given time\n",
        "    closest_idx = (traffic_light_status_df['time'] - time).abs().idxmin()\n",
        "    # Getting the status of the traffic light at that time\n",
        "    status = traffic_light_status_df.loc[closest_idx, 'traffic_status']\n",
        "    if status == \"green\":\n",
        "        return 1\n",
        "    else:\n",
        "        return 0\n",
        "\n",
        "def initialize_density(num_cells, initial_density=0):\n",
        "    \"\"\"\n",
        "    Initialize densities for each cell in the segment.\n",
        "\n",
        "    Args:\n",
        "        segment_length (float): Total length of the segment (meters).\n",
        "        cell_length (float): Length of each cell (meters).\n",
        "        initial_density (float): Initial density for each cell (vehicles/meter).\n",
        "\n",
        "    Returns:\n",
        "        list of float: Initial densities for each cell.\n",
        "    \"\"\"\n",
        "    # Create a list of densities for all cells\n",
        "    densities = [initial_density] * num_cells\n",
        "    return densities\n",
        "\n",
        "def initialize_outflow(num_cells, initial_flow=0):   # Maz\n",
        "    \"\"\"\n",
        "    Initialize densities for each cell in the segment.\n",
        "\n",
        "    Args:\n",
        "        segment_length (float): Total length of the segment (meters).\n",
        "        cell_length (float): Length of each cell (meters).\n",
        "        initial_density (float): Initial density for each cell (vehicles/meter).\n",
        "\n",
        "    Returns:\n",
        "        list of float: Initial densities for each cell.\n",
        "    \"\"\"\n",
        "    # Create a list of densities for all cells\n",
        "    flows = [initial_flow] * num_cells\n",
        "    return flows\n",
        "\n",
        "\n",
        "# Initialize CTM parameters\n",
        "ctm_params = CTMParameters()\n",
        "ctm_params.segment_length = segments_gdf_exploded[\"length\"].mean()"
      ]
    },
    {
      "cell_type": "markdown",
      "metadata": {
        "id": "-R-hWlqcCVI_"
      },
      "source": [
        "## Calculating free flow speed"
      ]
    },
    {
      "cell_type": "code",
      "execution_count": null,
      "metadata": {
        "colab": {
          "base_uri": "https://localhost:8080/"
        },
        "id": "3emyj2TSCRY0",
        "outputId": "b1d69ba3-c6b4-4f98-d0d1-55c3fbedd2ae"
      },
      "outputs": [],
      "source": [
        "import numpy as np\n",
        "free_flow_threshold = 25\n",
        "free_flow_speeds = speeds[speeds > free_flow_threshold]\n",
        "\n",
        "mean_speed = np.mean(free_flow_speeds)\n",
        "percentile_85 = np.percentile(free_flow_speeds, 85)\n",
        "\n",
        "print(f\"Free Flow Speed (Mean): {mean_speed} km/h\")\n",
        "print(f\"Free Flow Speed (85th Percentile): {percentile_85} km/h\")\n",
        "percentile_85_m_s = percentile_85/3.6\n",
        "ctm_params.free_flow_speed = percentile_85_m_s\n"
      ]
    },
    {
      "cell_type": "markdown",
      "metadata": {
        "id": "ZA1ezVhGEAJg"
      },
      "source": [
        "## intializing the variables"
      ]
    },
    {
      "cell_type": "code",
      "execution_count": null,
      "metadata": {
        "id": "70krRbBlEHpk"
      },
      "outputs": [],
      "source": [
        "def find_traffic_light_id(row, segments_gdf):\n",
        "    \"\"\"\n",
        "    Find the nearest segment ID to a given row in a DataFrame.\n",
        "\n",
        "    Args:\n",
        "        row (pd.Series): Row in a DataFrame with columns 'lat' and 'lon'.\n",
        "        segments_gdf (gpd.GeoDataFrame): GeoDataFrame with segment geometries.\n",
        "\n",
        "    Returns:\n",
        "        int: ID of the nearest segment.\n",
        "    \"\"\"\n",
        "    # Create a GeoDataFrame for the point\n",
        "    point = gpd.GeoDataFrame(\n",
        "        # Make sure lat and lon is given completely right! Lat first then lon\n",
        "        geometry=[loads(f\"POINT ({row['lat']} {row['lon']})\")], crs=\"EPSG:4326\"\n",
        "    )\n",
        "\n",
        "    # Reproject both point and segments to a projected CRS for accurate distance calculations\n",
        "    projected_crs = \"EPSG:4326\"  # Common projected CRS for distance calculations\n",
        "    point_proj = point.to_crs(projected_crs)\n",
        "    segments_gdf_proj = segments_gdf.to_crs(projected_crs)\n",
        "    max_distance = float(\"inf\")\n",
        "    nearest_link_id = None\n",
        "    for index, row in segments_gdf_proj.iterrows():\n",
        "        distance = row.geometry.distance(point_proj.geometry[0])\n",
        "        if distance < max_distance:\n",
        "            max_distance = distance\n",
        "            nearest_link_id = index\n",
        "    return nearest_link_id\n",
        "\n",
        "### Initialization of the density prediction container\n",
        "segment_densities_predicted = {link_id: initialize_density(\n",
        "                                                       segments_gdf_exploded[segments_gdf_exploded[\"link_id\"] == link_id].iloc[0, segments_gdf_exploded.columns.str.startswith(\"cell_\")].notna().sum())\n",
        "                                                       for link_id in segments_gdf_exploded[\"link_id\"].unique()}\n",
        "\n",
        "### Initialization of the outflow prediction container  Maz\n",
        "segment_flows_predicted = {link_id: initialize_outflow(\n",
        "                                                       segments_gdf_exploded[segments_gdf_exploded[\"link_id\"] == link_id].iloc[0, segments_gdf_exploded.columns.str.startswith(\"cell_\")].notna().sum())\n",
        "                                                       for link_id in segments_gdf_exploded[\"link_id\"].unique()}\n",
        "\n",
        "# find traffic light segment id\n",
        "traffic_lights_df[\"nearest_link_id\"] = traffic_lights_df.apply(find_traffic_light_id,\n",
        "                                                               axis=1,\n",
        "                                                               segments_gdf=gpd.GeoDataFrame(\n",
        "                                                                   segments_gdf_exploded,\n",
        "                                                                   geometry=\"geometry\",\n",
        "                                                                   crs=\"EPSG:4326\")\n",
        "                                                               )\n",
        "traffic_lights_df = traffic_lights_df.iloc[:5, :]\n"
      ]
    },
    {
      "cell_type": "code",
      "execution_count": null,
      "metadata": {
        "colab": {
          "base_uri": "https://localhost:8080/",
          "height": 269
        },
        "id": "GEc7sXf-CcaJ",
        "outputId": "a2264394-ccb7-4c5e-e7fe-8fb5241d0d3d"
      },
      "outputs": [],
      "source": [
        "veh_density_flow[(veh_density_flow[\"link_id\"] == 0) & (veh_density_flow[\"time\"] == 0.12)]\n"
      ]
    },
    {
      "cell_type": "markdown",
      "metadata": {
        "id": "WjrqhtJ5Dlvk"
      },
      "source": [
        "## Running the CTM model"
      ]
    },
    {
      "cell_type": "code",
      "execution_count": null,
      "metadata": {
        "colab": {
          "base_uri": "https://localhost:8080/"
        },
        "id": "aiiW8hRDCY3q",
        "outputId": "235e8a5c-be6f-47b3-831a-7f38c5b023bf"
      },
      "outputs": [],
      "source": [
        "from tqdm import tqdm\n",
        "def get_density_for_time(link_id, time, veh_density_flow):\n",
        "    t0 = time\n",
        "    density_t0 = veh_density_flow[(veh_density_flow[\"link_id\"] == link_id) & (veh_density_flow[\"time\"] == t0)]\n",
        "    density_t0_initialized = segment_densities_predicted[link_id].copy()\n",
        "    for index, row in density_t0.iterrows():\n",
        "        density_t0_initialized[int(row[\"closest_cell\"].split(\"_\")[-1])-1] = row[\"density\"]\n",
        "\n",
        "    t1 = t0 + ctm_params.get_time_step(cell_lengths[link_id])\n",
        "\n",
        "    closest_t1 = veh_density_flow[veh_density_flow[\"time\"] >= t1].sort_values(\"time\")\n",
        "    if not closest_t1.empty:\n",
        "        closest_t1 = closest_t1.iloc[0].time\n",
        "        density_t1 = veh_density_flow[(veh_density_flow[\"link_id\"] == link_id) & (veh_density_flow[\"time\"] ==closest_t1)]\n",
        "    else:\n",
        "        density_t1 = pd.DataFrame(columns=[\"link_id\", \"time\", \"closest_cell\", \"density\"])\n",
        "\n",
        "\n",
        "    density_t1_initialized = segment_densities_predicted[link_id].copy()\n",
        "    for index, row in density_t1.iterrows():\n",
        "        density_t1_initialized[int(row[\"closest_cell\"].split(\"_\")[-1])-1] = row[\"density\"]\n",
        "    density_t1_initialized = np.array(density_t1_initialized)\n",
        "    density_t0_initialized = np.array(density_t0_initialized)\n",
        "\n",
        "    return density_t0_initialized, density_t1_initialized\n",
        "\n",
        "\n",
        "def get_flow_for_time(link_id, time, veh_density_flow):   # function by Maz\n",
        "    t0 = time\n",
        "    flow_t0 = veh_density_flow[(veh_density_flow[\"link_id\"] == link_id) & (veh_density_flow[\"time\"] == t0)]\n",
        "\n",
        "    t1 = t0 + ctm_params.get_time_step(cell_lengths[link_id])\n",
        "\n",
        "    veh_density_flow[(veh_density_flow[\"time\"] < t1) & (veh_density_flow[\"time\"] >= t0)]\n",
        "    flow_t0_initialized = segment_flows_predicted[link_id].copy()\n",
        "    for index, row in flow_t0.iterrows():\n",
        "        flow_t0_initialized[int(row[\"closest_cell\"].split(\"_\")[-1])-1] = row[\"exit\"]\n",
        "\n",
        "    t1 = t0 + ctm_params.get_time_step(cell_lengths[link_id])\n",
        "\n",
        "    closest_t1 = veh_density_flow[veh_density_flow[\"time\"] >= t1].sort_values(\"time\")\n",
        "    if not closest_t1.empty:\n",
        "        closest_t1 = closest_t1.iloc[0].time\n",
        "        flow_t1 = veh_density_flow[(veh_density_flow[\"link_id\"] == link_id) & (veh_density_flow[\"time\"] ==closest_t1)]\n",
        "    else:\n",
        "        flow_t1 = pd.DataFrame(columns=[\"link_id\", \"time\", \"closest_cell\", \"exit\"])\n",
        "\n",
        "\n",
        "    flow_t1_sum = veh_density_flow[(veh_density_flow[\"link_id\"] == link_id) &\n",
        "                                   (veh_density_flow[\"time\"] >= t0) &\n",
        "                                   (veh_density_flow[\"time\"] < t1)].groupby(\"closest_cell\")[\"exit\"].sum().reset_index()\n",
        "\n",
        "    flow_t1_initialized = segment_densities_predicted[link_id].copy()\n",
        "    for index, row in flow_t1_sum.iterrows():\n",
        "        flow_t1_initialized[int(row[\"closest_cell\"].split(\"_\")[-1])-1] = row[\"exit\"]\n",
        "\n",
        "    flow_t1_initialized = np.array(flow_t1_initialized)\n",
        "    flow_t0_initialized = np.array(flow_t0_initialized)\n",
        "\n",
        "\n",
        "    return flow_t0_initialized, flow_t1_initialized\n",
        "actual_values_dict = {}\n",
        "predicted_values_dict = {}\n",
        "rmses_dict = {}\n",
        "times_dict = {}\n",
        "predict_mean_dict = {}\n",
        "actual_mean_dict = {}\n",
        "\n",
        "actual_values_flow_dict = {}\n",
        "predicted_values_flow_dict = {}\n",
        "rmses_flow_dict = {}\n",
        "times_flow_dict = {}\n",
        "predict_mean_flow_dict = {}\n",
        "actual_mean_flow_dict = {}\n",
        "\n",
        "incoming = 0  # maz\n",
        "turning_ratio = 0.6 # maz\n",
        "heatmap_data_maz = []\n",
        "\n",
        "for link_id in veh_density_flow[\"link_id\"].unique():\n",
        "    rmses = []\n",
        "    times = []\n",
        "    predict_mean = []\n",
        "    actual_mean = []\n",
        "    predicted_values = []\n",
        "    actual_values = []\n",
        "\n",
        "    rmses_flow = [] # maz\n",
        "    times_flow = []   # maz\n",
        "    predict_mean_flow = []  # maz\n",
        "    actual_mean_flow = []    # maz\n",
        "    predicted_values_flow = []    # maz\n",
        "    actual_values_flow = []       # maz\n",
        "    unique_times = veh_density_flow[veh_density_flow[\"link_id\"] == link_id][\"time\"].unique()\n",
        "    for unique_time in tqdm(unique_times, unit=\"time\"):\n",
        "        density_t0_initialized, density_t1_initialized = get_density_for_time(link_id, unique_time, veh_density_flow)\n",
        "        flow_t0_initialized, flow_t1_initialized = get_flow_for_time(link_id, unique_time, veh_density_flow)     # Maz\n",
        "\n",
        "        inflow_dt = veh_density_flow[((veh_density_flow[\"time\"] >= unique_time) &\n",
        "         (veh_density_flow[\"time\"] <= unique_time+ctm_params.get_time_step(cell_lengths[link_id]))) &\n",
        "          (veh_density_flow[\"link_id\"] == link_id)]\n",
        "\n",
        "        # print(\"inflow is \" , inflow_dt[\"entry\"].values[0] * ctm_params.time_step)\n",
        "        if inflow_dt.empty:\n",
        "            inflow_dt = 0\n",
        "        else:\n",
        "            inflow_dt = inflow_dt[\"entry\"].sum() * turning_ratio / ctm_params.get_time_step(cell_lengths[link_id])  # maz\n",
        "\n",
        "        # heatmap_data_maz.append([link_id, unique_time, inflow_dt])\n",
        "\n",
        "        predicted_den, predicted_flow = update_cell_status(unique_time, link_id, density_t0_initialized, flow_t0_initialized, ctm_params, inflow_dt, traffic_lights_df, traffic_lights_dict_states)\n",
        "        predicted_flow  = np.array(predicted_flow)\n",
        "        predicted_den = np.array(predicted_den)\n",
        "\n",
        "        predict_mean.append(predicted_den[:].mean())\n",
        "        predicted_value = predicted_den[:]\n",
        "        actual_value = density_t1_initialized[:]\n",
        "\n",
        "        predict_mean_flow.append(predicted_flow[:].mean())   # maz\n",
        "        predicted_value_flow = predicted_flow[:]        # maz\n",
        "        actual_value2 = flow_t1_initialized[:]      # maz\n",
        "\n",
        "        rmse = np.sqrt(np.mean((predicted_value - actual_value)**2))\n",
        "        predicted_values.append(predicted_value)\n",
        "        actual_values.append(actual_value)\n",
        "        actual_mean.append(density_t0_initialized[:].mean())\n",
        "        rmses.append(rmse)\n",
        "        times.append(unique_time)\n",
        "\n",
        "        rmse2 = np.sqrt(np.mean((predicted_value_flow - actual_value2)**2))    # maz\n",
        "        predicted_values_flow.append(predicted_value_flow)      # maz\n",
        "        actual_values_flow.append(actual_value2)    # maz\n",
        "        actual_mean_flow.append(flow_t0_initialized[:].mean())     # maz\n",
        "        rmses.append(rmse2)    # maz\n",
        "        times_flow.append(unique_time)    # maz\n",
        "\n",
        "    actual_values_dict[link_id] = actual_values\n",
        "    predicted_values_dict[link_id] = predicted_values\n",
        "    rmses_dict[link_id] = rmses\n",
        "    times_dict[link_id] = times\n",
        "    predict_mean_dict[link_id] = predict_mean\n",
        "    actual_mean_dict[link_id] = actual_mean\n",
        "\n",
        "    actual_values_flow_dict[link_id] = actual_values_flow    # maz\n",
        "    predicted_values_flow_dict[link_id] = predicted_values_flow   # maz\n",
        "    rmses_flow_dict[link_id] = rmses_flow    # maz\n",
        "    times_flow_dict[link_id] = times_flow     # maz\n",
        "    predict_mean_flow_dict[link_id] = predict_mean_flow       # maz\n",
        "    actual_mean_flow_dict[link_id] = actual_mean_flow         # ma"
      ]
    },
    {
      "cell_type": "markdown",
      "metadata": {
        "id": "C-5S0d65cD1D"
      },
      "source": [
        "## Saving the results"
      ]
    },
    {
      "cell_type": "code",
      "execution_count": null,
      "metadata": {
        "colab": {
          "base_uri": "https://localhost:8080/"
        },
        "id": "wOsKwzUdOs2T",
        "outputId": "a511af43-60b2-4b14-a80a-7d32bb8d84a6"
      },
      "outputs": [],
      "source": [
        "import pickle\n",
        "\n",
        "# Save the dictionaries to a pickle file\n",
        "with open(\"ctm_results_Mazi.pkl\", \"wb\") as f:\n",
        "    pickle.dump({\n",
        "        \"actual_values_dict\": actual_values_dict,\n",
        "        \"predicted_values_dict\": predicted_values_dict,\n",
        "        \"rmses_dict\": rmses_dict,\n",
        "        \"times_dict\": times_dict,\n",
        "        \"predict_mean_dict\": predict_mean_dict,\n",
        "        \"actual_mean_dict\": actual_mean_dict,\n",
        "        \"actual_values_flow_dict\": actual_values_flow_dict,\n",
        "        \"predicted_values_flow_dict\": predicted_values_flow_dict,\n",
        "        \"rmses_flow_dict\": rmses_flow_dict,\n",
        "        \"times_flow_dict\": times_flow_dict,\n",
        "        \"predict_mean_flow_dict\": predict_mean_flow_dict,\n",
        "        \"actual_mean_flow_dict\": actual_mean_flow_dict\n",
        "    }, f)\n",
        "\n",
        "print(\"Dictionaries saved to ctm_results.pkl\")\n"
      ]
    },
    {
      "cell_type": "markdown",
      "metadata": {
        "id": "Zw7MH5NbcZE4"
      },
      "source": [
        "## Loading CTM model"
      ]
    },
    {
      "cell_type": "code",
      "execution_count": null,
      "metadata": {
        "colab": {
          "base_uri": "https://localhost:8080/"
        },
        "id": "CbI-AWNHcaz5",
        "outputId": "3da11d73-f939-437f-b464-7eb0095bfcdb"
      },
      "outputs": [],
      "source": [
        "import pickle\n",
        "\n",
        "# Load the dictionaries from the pickle file\n",
        "with open(\"ctm_results_Mazi.pkl\", \"rb\") as f:\n",
        "    data = pickle.load(f)\n",
        "\n",
        "# Extract individual dictionaries\n",
        "actual_values_dict = data[\"actual_values_flow_dict\"]\n",
        "predicted_values_dict = data[\"predicted_values_flow_dict\"]\n",
        "rmses_dict = data[\"rmses_flow_dict\"]\n",
        "times_dict = data[\"times_flow_dict\"]\n",
        "predict_mean_dict = data[\"predict_mean_flow_dict\"]\n",
        "actual_mean_dict = data[\"actual_mean_flow_dict\"]\n",
        "\n",
        "actual_values_flow_dict = data[\"actual_values_flow_dict\"]\n",
        "predicted_values_flow_dict = data[\"predicted_values_flow_dict\"]\n",
        "rmses_flow_dict = data[\"rmses_flow_dict\"]\n",
        "times_flow_dict = data[\"times_flow_dict\"]\n",
        "predict_mean_flow_dict = data[\"predict_mean_flow_dict\"]\n",
        "actual_mean_flow_dict = data[\"actual_mean_flow_dict\"]\n",
        "\n",
        "print(\"Dictionaries successfully loaded!\")\n"
      ]
    },
    {
      "cell_type": "code",
      "execution_count": null,
      "metadata": {
        "id": "tkw-dh6NFbfq"
      },
      "outputs": [],
      "source": [
        "from collections import defaultdict\n",
        "\n"
      ]
    },
    {
      "cell_type": "code",
      "execution_count": null,
      "metadata": {
        "id": "_ZHKgqpHKFUl"
      },
      "outputs": [],
      "source": [
        "from collections import defaultdict\n",
        "\n",
        "import plotly.express as px\n",
        "import plotly.graph_objects as go\n",
        "\n",
        "heatmap_data_error = defaultdict(lambda : defaultdict(list))\n",
        "heatmap_data_actual = defaultdict(lambda : defaultdict(list))\n",
        "heatmap_data_precicted = defaultdict(lambda : defaultdict(list))\n",
        "\n",
        "# Maz\n",
        "heatmap_data_flow_error = defaultdict(lambda : defaultdict(list))\n",
        "heatmap_data_flow_actual = defaultdict(lambda : defaultdict(list))\n",
        "heatmap_data_flow_precicted = defaultdict(lambda : defaultdict(list))\n",
        "\n",
        "min_i = 0\n",
        "for link_id in times_dict.keys():\n",
        "    for time_index in range(len(times_dict[link_id])):\n",
        "        time = times_dict[link_id][time_index]\n",
        "        a = actual_values_dict[link_id][time_index]\n",
        "        p = predicted_values_dict[link_id][time_index]\n",
        "        e2 = abs(a-p)\n",
        "        heatmap_data_error[link_id][time] = e2\n",
        "        heatmap_data_actual[link_id][time] = a\n",
        "        heatmap_data_precicted[link_id][time] = p\n",
        "\n",
        "\n",
        "        # Maz\n",
        "        a2 = actual_values_flow_dict[link_id][time_index]\n",
        "        p2 = predicted_values_flow_dict[link_id][time_index]\n",
        "        e22 = abs(a-p)\n",
        "        heatmap_data_flow_error[link_id][time] = e22\n",
        "        heatmap_data_flow_actual[link_id][time] = a2\n",
        "        heatmap_data_flow_precicted[link_id][time] = p2\n",
        "\n",
        "data_list_error = []\n",
        "data_list_actual = []\n",
        "data_list_predicted = []\n",
        "\n",
        "# MAz\n",
        "data_list_flow_error = []\n",
        "data_list_flow_actual = []\n",
        "data_list_flow_predicted = []\n",
        "\n",
        "for link_id, time_dict in heatmap_data_error.items():\n",
        "    for time, values in time_dict.items():\n",
        "        for cell_idx, value in enumerate(values):\n",
        "            data_list_error.append({\"link_id\": link_id, \"time\": time, \"cell\": cell_idx + 1, \"value\": value})\n",
        "\n",
        "for link_id, time_dict in heatmap_data_actual.items():\n",
        "    for time, values in time_dict.items():\n",
        "        for cell_idx, value in enumerate(values):\n",
        "            data_list_actual.append({\"link_id\": link_id, \"time\": time, \"cell\": cell_idx + 1, \"value\": value})\n",
        "\n",
        "for link_id, time_dict in heatmap_data_precicted.items():\n",
        "    for time, values in time_dict.items():\n",
        "        for cell_idx, value in enumerate(values):\n",
        "            data_list_predicted.append({\"link_id\": link_id, \"time\": time, \"cell\": cell_idx + 1, \"value\": value})\n",
        "\n",
        "# MAz\n",
        "for link_id, time_dict in heatmap_data_flow_error.items():\n",
        "    for time, values in time_dict.items():\n",
        "        for cell_idx, value in enumerate(values):\n",
        "            data_list_flow_error.append({\"link_id\": link_id, \"time\": time, \"cell\": cell_idx + 1, \"value\": value})\n",
        "\n",
        "for link_id, time_dict in heatmap_data_flow_actual.items():\n",
        "    for time, values in time_dict.items():\n",
        "        for cell_idx, value in enumerate(values):\n",
        "            data_list_flow_actual.append({\"link_id\": link_id, \"time\": time, \"cell\": cell_idx + 1, \"value\": value})\n",
        "\n",
        "for link_id, time_dict in heatmap_data_flow_precicted.items():\n",
        "    for time, values in time_dict.items():\n",
        "        for cell_idx, value in enumerate(values):\n",
        "            data_list_flow_predicted.append({\"link_id\": link_id, \"time\": time, \"cell\": cell_idx + 1, \"value\": value})\n",
        "\n",
        "df_error = pd.DataFrame(data_list_error)\n",
        "df_actual = pd.DataFrame(data_list_actual)\n",
        "df_predicted = pd.DataFrame(data_list_predicted)\n",
        "\n",
        "df_flow_error = pd.DataFrame(data_list_flow_error)\n",
        "df_flow_actual = pd.DataFrame(data_list_flow_actual)\n",
        "df_flow_predicted = pd.DataFrame(data_list_flow_predicted)"
      ]
    },
    {
      "cell_type": "markdown",
      "metadata": {
        "id": "T6xCpiAfiduH"
      },
      "source": [
        "## CTM Error Heatmap"
      ]
    },
    {
      "cell_type": "code",
      "execution_count": null,
      "metadata": {
        "colab": {
          "base_uri": "https://localhost:8080/",
          "height": 1000
        },
        "id": "CZIGufF8KO_K",
        "outputId": "31393623-1b86-4e1d-d39c-d1a41970f560"
      },
      "outputs": [],
      "source": [
        "min_value = df_flow_error[\"value\"].min()\n",
        "max_value = df_flow_error[\"value\"].max()\n",
        "for name, group in df_flow_error.groupby(\"link_id\"):\n",
        "  group = group[group[\"cell\"] != 1]\n",
        "  fig = go.Figure(data=go.Heatmap(\n",
        "      z=group[\"value\"].values,\n",
        "      x=group[\"cell\"].values,\n",
        "      y=group[\"time\"].values,\n",
        "      colorscale=\"Reds\",\n",
        "\n",
        "  ))\n",
        "  fig.update_layout(\n",
        "      title=f\"OUTFLOW Error Heatmap - Link ID {name}\",  # Dynamic title per link_id\n",
        "      xaxis_title=\"Cell Index\",\n",
        "      yaxis_title=\"Time\",\n",
        "      font=dict(size=14)  # Adjust font size for better readability\n",
        "  )\n",
        "\n",
        "  fig.show()"
      ]
    },
    {
      "cell_type": "markdown",
      "metadata": {
        "id": "MaoQBgSwirux"
      },
      "source": [
        "## CTM Actual Heatmap"
      ]
    },
    {
      "cell_type": "code",
      "execution_count": null,
      "metadata": {
        "colab": {
          "base_uri": "https://localhost:8080/",
          "height": 1000
        },
        "id": "eaARCaNZiy5F",
        "outputId": "62273557-1e64-4f38-92c8-c70d6d632706"
      },
      "outputs": [],
      "source": [
        "min_value = df_flow_actual[\"value\"].min()\n",
        "max_value = df_flow_actual[\"value\"].max()\n",
        "for name, group in df_flow_actual.groupby(\"link_id\"):\n",
        "\n",
        "  fig = go.Figure(data=go.Heatmap(\n",
        "      z=group[\"value\"].values,\n",
        "      x=group[\"cell\"].values,\n",
        "      y=group[\"time\"].values,\n",
        "      colorscale=\"Reds\",\n",
        "      zmin=min_value,\n",
        "      zmax=max_value\n",
        "  ))\n",
        "  fig.update_layout(\n",
        "      title=f\"OUTFLOW Actual Heatmap - Link ID {name}\",  # Dynamic title per link_id\n",
        "      xaxis_title=\"Cell Index\",\n",
        "      yaxis_title=\"Time\",\n",
        "      font=dict(size=14)  # Adjust font size for better readability\n",
        "  )\n",
        "\n",
        "  fig.show()"
      ]
    },
    {
      "cell_type": "markdown",
      "metadata": {
        "id": "8x5IonYSaqNN"
      },
      "source": [
        "## CTM Predicted Heatmap"
      ]
    },
    {
      "cell_type": "code",
      "execution_count": null,
      "metadata": {
        "colab": {
          "base_uri": "https://localhost:8080/",
          "height": 1000
        },
        "id": "z8glE4gv8svD",
        "outputId": "167a479b-878a-4c5f-ec8a-70d4db6aedf8"
      },
      "outputs": [],
      "source": [
        "min_value = df_flow_predicted[\"value\"].min()\n",
        "max_value = df_flow_predicted[\"value\"].max()\n",
        "for name, group in df_flow_predicted.groupby(\"link_id\"):\n",
        "\n",
        "  fig = go.Figure(data=go.Heatmap(\n",
        "      z=group[\"value\"].values,\n",
        "      x=group[\"cell\"].values,\n",
        "      y=group[\"time\"].values,\n",
        "      colorscale=\"Reds\",\n",
        "      zmin=min_value,\n",
        "      zmax=max_value\n",
        "  ))\n",
        "  fig.update_layout(\n",
        "      title=f\"Outflow Predicted Heatmap - Link ID {name}\",  # Dynamic title per link_id\n",
        "      xaxis_title=\"Cell Index\",\n",
        "      yaxis_title=\"Time\",\n",
        "      font=dict(size=14)  # Adjust font size for better readability\n",
        "  )\n",
        "\n",
        "  fig.show()"
      ]
    },
    {
      "cell_type": "markdown",
      "metadata": {
        "id": "bHcLp6m0X3kS"
      },
      "source": [
        "# Point Queue Model"
      ]
    },
    {
      "cell_type": "code",
      "execution_count": null,
      "metadata": {
        "id": "7HuQ6h4dZCoT"
      },
      "outputs": [],
      "source": [
        "df_filtered = pd.read_csv(\"20181024_d1_0830_0900_segmented_oneaxistrajectory_cell.csv\")\n",
        "veh_density_flow = pd.read_csv(\"20181024_d1_0830_0900_veh_density_flow.csv\")\n",
        "\n",
        "# grouped_with_veh_ids = df_filtered.groupby([\"link_id\", \"time\"]).agg({\n",
        "#     \"veh_id\": lambda x: frozenset(x)  # Use frozenset instead of set\n",
        "# }).reset_index()\n",
        "\n",
        "# df_filtered = df_filtered.merge(grouped_with_veh_ids, on=[\"link_id\", \"time\"], suffixes=('', '_list'))\n",
        "# df_filtered.rename(columns={\"veh_id_list\": \"veh_id_list\"}, inplace=True)\n",
        "# duplicate_dropped = df_filtered.drop_duplicates(subset=[\"link_id\", \"time\", \"veh_id_list\"])[[\"veh_id_list\", \"link_id\", \"time\"]]\n",
        "# link_dataframes = {}\n",
        "# duplicate_dropped.columns = [f\"{col}_{i}\" if duplicate_dropped.columns.duplicated()[i] else col for i, col in enumerate(duplicate_dropped.columns)]\n",
        "# for link_id in duplicate_dropped[\"link_id\"].unique():\n",
        "\n",
        "\n",
        "#     segment_df = duplicate_dropped[duplicate_dropped[\"link_id\"] == link_id].reset_index().drop(columns=[\"index\"])\n",
        "#     segment_df = segment_df.sort_values(\"time\")\n",
        "\n",
        "#     segment_df[\"N_down\"] = segment_df[\"veh_id_list\"] - segment_df[\"veh_id_list\"].shift(1)\n",
        "#     segment_df[\"N_up\"] = segment_df[\"veh_id_list\"].shift(-1) - segment_df[\"veh_id_list\"]\n",
        "\n",
        "#     segment_df[\"N_cumsum_down\"] = segment_df[\"N_down\"].iloc[1:].apply(len).cumsum()\n",
        "#     segment_df[\"N_cumsum_up\"] = segment_df[\"N_up\"].iloc[:-1].apply(len).cumsum()\n",
        "\n",
        "#     link_dataframes[link_id] = segment_df\n"
      ]
    },
    {
      "cell_type": "code",
      "execution_count": null,
      "metadata": {
        "id": "MxftZUvRNTf7"
      },
      "outputs": [],
      "source": [
        "veh_density_flow[\"veh_ids\"] = veh_density_flow[\"veh_ids\"].apply(lambda x: ast.literal_eval(x))"
      ]
    },
    {
      "cell_type": "code",
      "execution_count": null,
      "metadata": {
        "id": "wzRNBtt_NaXy"
      },
      "outputs": [],
      "source": [
        "veh_density_flow[\"count\"] = veh_density_flow[\"veh_ids\"].apply(len)"
      ]
    },
    {
      "cell_type": "code",
      "execution_count": null,
      "metadata": {
        "id": "5IilVXqnhoIK"
      },
      "outputs": [],
      "source": [
        "link_dataframes = {}\n",
        "duplicate_dropped = veh_density_flow.groupby([\"time\",\"link_id\"])[[\"entry\", \"exit\", \"count\"]].sum().reset_index()\n",
        "for link_id in duplicate_dropped[\"link_id\"].unique():\n",
        "  segment_df = duplicate_dropped[duplicate_dropped[\"link_id\"] == link_id].reset_index().drop(columns=[\"index\"])\n",
        "  segment_df = segment_df.sort_values(\"time\")\n",
        "  segment_df[\"N_down\"] = segment_df[\"exit\"]\n",
        "  segment_df[\"N_up\"] = segment_df[\"entry\"]\n",
        "  segment_df[\"N_cumsum_down\"] = segment_df[\"N_down\"].iloc[1:].cumsum()\n",
        "  segment_df[\"N_cumsum_up\"] = segment_df[\"N_up\"].iloc[:-1].cumsum()\n",
        "  link_dataframes[link_id] = segment_df"
      ]
    },
    {
      "cell_type": "code",
      "execution_count": null,
      "metadata": {
        "id": "sAI0BaGNR1TB"
      },
      "outputs": [],
      "source": [
        "import math\n",
        "def cumulativecount_up(time, link_id):\n",
        "    segment_df = link_dataframes[link_id]\n",
        "    closest_time = segment_df[segment_df['time'] <= time].time.max()\n",
        "    if math.isnan(closest_time):\n",
        "        return 0\n",
        "    return segment_df[segment_df['time'] == closest_time][\"N_cumsum_up\"].values[0]\n",
        "\n",
        "def cumulativecount_down(time, link_id):\n",
        "    segment_df = link_dataframes[link_id]\n",
        "    closest_time = segment_df[segment_df['time'] <= time].time.max()\n",
        "    if math.isnan(closest_time):\n",
        "        return 0\n",
        "    return segment_df[segment_df['time'] == closest_time][\"N_cumsum_down\"].values[0]\n",
        "# Notes for Maziar:\n",
        "## Do not use CTMParameters().object at all! If you use it, it will create a new object every time you call it. Instead, use the instance that you make of it!\n",
        "## Try avoidng using the istance of CTMParemeters as a global object. Instead, pass it as an argument to the functions that need it.\n",
        "## The docstring could be formatted for clarity: 1- Mention all parameters and their expected types! 2- Include an explanation of the function's output!\n",
        "## Check for invalid or empty densities.\n",
        "## Use descriptive variable names for better readability.\n",
        "## Avoid magic numbers like 1 for the green light status; use constants instead.\n",
        "\n",
        "\n",
        "# load params\n",
        "ctm_params = CTMParameters() # for now, we use same parameters we had in CTM model\n",
        "segment_length = segments_gdf_exploded[\"length\"].mean()\n",
        "# define the function for finding cumulative counts\n",
        "N_upstr = cumulativecount_up\n",
        "N_downstr = cumulativecount_down\n",
        "\n",
        "## Cell transmission model: update cell density\n",
        "# time: current simulation time\n",
        "# arguments: N_upstrs: cumulative count of vehicles in upstream at a given time. I'll pass N_downstr(t) and it should tell me the cumulative count\n",
        "# N_downstr: cumulative count at link downstream at time t (current time)\n",
        "# entry_flow: for now constant, entering to the link in vehicles per second\n",
        "# assumptions: jam density and max flow are constant for all cells\n",
        "def update_point_queue(time, link_id, entry_flow, traffic_lights_df, traffic_lights_dict_states):\n",
        "    cell_length = cell_lengths[link_id]\n",
        "    segment_length = segments_gdf_exploded[segments_gdf_exploded[\"link_id\"] == link_id].iloc[0].length\n",
        "    # check if there is a traffic light at the end of the segment\n",
        "    if is_tl(link_id, traffic_lights_df):\n",
        "        # check the status of the traffic light\n",
        "        if tl_status(time, link_id, traffic_lights_df, traffic_lights_dict_states) == 1: # green light\n",
        "            # find the link sending flow using point queue model\n",
        "            sending_flow = min( N_upstr(time + ctm_params.get_time_step(cell_length) - (segment_length/ctm_params.free_flow_speed), link_id) - N_downstr(time , link_id), ctm_params.max_flow(cell_length)*ctm_params.get_time_step(cell_length))\n",
        "        else:\n",
        "            sending_flow = 0\n",
        "    else: # no traffic light at the end of the link\n",
        "        sending_flow = min( N_upstr(time + ctm_params.get_time_step(cell_length) - (segment_length/ctm_params.free_flow_speed), link_id) - N_downstr(time , link_id), ctm_params.max_flow(cell_length)*ctm_params.get_time_step(cell_length))\n",
        "\n",
        "    # find the number of vehicles in the link at the next time step\n",
        "    n_current =  N_upstr(time, link_id) - N_downstr(time, link_id)   # current number of vehicles\n",
        "\n",
        "    n_updated = n_current + entry_flow * ctm_params.get_time_step(cell_length) -  sending_flow\n",
        "    if n_updated < 0:\n",
        "        print(\"n_current\", n_current, \"sending flow\", sending_flow, \"entry flow\", entry_flow, \"time\", time)\n",
        "        print(\"N DOWNSTR is\", N_upstr(time, link_id)  ,\"at this time N special is\", N_upstr(time + ctm_params.get_time_step(cell_length) - (segment_length/ctm_params.free_flow_speed), link_id))\n",
        "\n",
        "    link_outflow = sending_flow\n",
        "    link_density = n_updated / segment_length\n",
        "    return link_density, link_outflow    # please note the   order ## I will:)\n"
      ]
    },
    {
      "cell_type": "code",
      "execution_count": null,
      "metadata": {
        "colab": {
          "base_uri": "https://localhost:8080/"
        },
        "id": "1rD94-LkAvn_",
        "outputId": "ac9e1394-fc6f-4e1e-f018-bc5421ae33b5"
      },
      "outputs": [],
      "source": [
        "len(duplicate_dropped[duplicate_dropped[\"link_id\"] == 4].time.unique())"
      ]
    },
    {
      "cell_type": "code",
      "execution_count": null,
      "metadata": {
        "colab": {
          "background_save": true,
          "base_uri": "https://localhost:8080/"
        },
        "id": "lqdGXzMpYcXl",
        "outputId": "42ba6382-ba1e-4a98-81e6-bcc5c19feb56"
      },
      "outputs": [],
      "source": [
        "from collections import defaultdict\n",
        "from tqdm import tqdm\n",
        "point_queue_data = defaultdict(dict)\n",
        "\n",
        "for link_id in duplicate_dropped[\"link_id\"].unique():\n",
        "    segment_df = duplicate_dropped[duplicate_dropped[\"link_id\"] == link_id].reset_index().drop(columns=[\"index\"])\n",
        "    segment_df = segment_df.sort_values(\"time\")\n",
        "    for time in tqdm(segment_df[\"time\"].unique(), unit=\"time\"+f\" {link_id}\"):\n",
        "\n",
        "        inflow_dt = veh_density_flow[((veh_density_flow[\"time\"] >= time) &\n",
        "         (veh_density_flow[\"time\"] <= time+ctm_params.get_time_step(cell_lengths[link_id]))) &\n",
        "          (veh_density_flow[\"link_id\"] == link_id)]\n",
        "\n",
        "        # print(\"inflow is \" , inflow_dt[\"entry\"].values[0] * ctm_params.time_step)\n",
        "        if inflow_dt.empty:\n",
        "            inflow_dt = 0\n",
        "        else:\n",
        "            inflow_dt = inflow_dt[\"entry\"].sum() / ctm_params.get_time_step(cell_lengths[link_id])\n",
        "\n",
        "        link_density, link_outflow = update_point_queue(time, link_id, inflow_dt, traffic_lights_df, traffic_lights_dict_states)\n",
        "\n",
        "        point_queue_data[link_id][time] = {\"link_density\": link_density, \"link_outflow\": link_outflow}\n",
        "        # print(time, link_id, \"done\")\n",
        "duplicate_dropped[\"point_queue_predicted_density\"] = duplicate_dropped.apply(lambda x: point_queue_data[x[\"link_id\"]][x[\"time\"]][\"link_density\"], axis=1).fillna(0)"
      ]
    },
    {
      "cell_type": "code",
      "execution_count": null,
      "metadata": {
        "id": "QMaSt-3CcwiH"
      },
      "outputs": [],
      "source": [
        "duplicate_dropped[\"density\"] = duplicate_dropped.reset_index().apply(lambda row: row[\"count\"]/(segments_gdf_exploded[segments_gdf_exploded[\"link_id\"] == row[\"link_id\"]][\"length\"].values[0]), axis=1)"
      ]
    },
    {
      "cell_type": "code",
      "execution_count": null,
      "metadata": {
        "colab": {
          "base_uri": "https://localhost:8080/"
        },
        "id": "XuSYejR6Zxeu",
        "outputId": "2117427a-1e94-4cee-8495-cb264299d22c"
      },
      "outputs": [],
      "source": [
        "for link_id in sorted(duplicate_dropped[\"link_id\"].unique()):\n",
        "    rmse = np.sqrt(np.mean((duplicate_dropped[duplicate_dropped[\"link_id\"] == link_id][\"density\"] - duplicate_dropped[duplicate_dropped[\"link_id\"] == link_id][\"point_queue_predicted_density\"])**2))\n",
        "    print(\"For link with id: \", link_id, \" the RMSE is: \", rmse)"
      ]
    },
    {
      "cell_type": "markdown",
      "metadata": {
        "id": "ZXqBbBLVa9ZS"
      },
      "source": [
        "## Point Queue Heatmap"
      ]
    },
    {
      "cell_type": "code",
      "execution_count": null,
      "metadata": {
        "colab": {
          "base_uri": "https://localhost:8080/",
          "height": 542
        },
        "id": "mupACs5aZ4SH",
        "outputId": "c7561884-019f-47b9-9bf7-3e8559625735"
      },
      "outputs": [],
      "source": [
        "import plotly.graph_objects as go\n",
        "import pandas as pd\n",
        "\n",
        "duplicate_dropped2 = duplicate_dropped.copy()\n",
        "duplicate_dropped2[\"e2\"] = (duplicate_dropped2[\"point_queue_predicted_density\"] - duplicate_dropped2[\"density\"])**2\n",
        "\n",
        "unique_links = duplicate_dropped2[\"link_id\"].unique()\n",
        "unique_times = duplicate_dropped2[\"time\"].unique()\n",
        "\n",
        "full_grid = pd.MultiIndex.from_product([unique_links, unique_times], names=[\"link_id\", \"time\"]).to_frame(index=False)\n",
        "\n",
        "filled_data = full_grid.merge(duplicate_dropped2, on=[\"link_id\", \"time\"], how=\"left\").fillna({\"e2\": 0})\n",
        "\n",
        "fig = go.Figure(data=go.Heatmap(\n",
        "    z=filled_data[\"e2\"].values,\n",
        "    x=filled_data[\"link_id\"].values,\n",
        "    y=filled_data[\"time\"].values,\n",
        "    colorscale=\"Reds\",\n",
        "    zmin=filled_data[\"e2\"].min(),\n",
        "    zmax=filled_data[\"e2\"].max()\n",
        "))\n",
        "\n",
        "fig.update_layout(\n",
        "    title=\"Error Heatmap for Point Queue\",\n",
        "    xaxis_title=\"Cell Index\",\n",
        "    yaxis_title=\"Time\",\n",
        "    font=dict(size=14),\n",
        "    coloraxis_colorbar=dict(title=\"Value\")\n",
        ")\n",
        "\n",
        "fig.show()\n"
      ]
    },
    {
      "cell_type": "code",
      "execution_count": null,
      "metadata": {
        "colab": {
          "base_uri": "https://localhost:8080/"
        },
        "id": "erYZXWg_6Lmn",
        "outputId": "c28faec4-4caf-4764-9094-9e1c027b1b15"
      },
      "outputs": [],
      "source": [
        "# prompt: store0 duplicated_dropped dataframe  for point queue\n",
        "\n",
        "import pandas as pd\n",
        "import pickle\n",
        "# Assuming 'duplicate_dropped' DataFrame is already defined and populated as in your provided code\n",
        "\n",
        "# Save the dataframe to a pickle file\n",
        "with open(\"duplicated_dropped_dataframe_pq.pkl\", \"wb\") as f:\n",
        "    pickle.dump(duplicate_dropped, f)\n",
        "\n",
        "print(\"DataFrame saved to duplicated_dropped_dataframe_pq.pkl\")\n"
      ]
    },
    {
      "cell_type": "code",
      "execution_count": null,
      "metadata": {
        "colab": {
          "base_uri": "https://localhost:8080/"
        },
        "id": "cZMru2em6R4O",
        "outputId": "57a067bb-6d5f-4a0a-cacc-fe2e6ed8a58b"
      },
      "outputs": [],
      "source": [
        "# prompt: load duplicated_dropped dataframe for point queue\n",
        "\n",
        "import pickle\n",
        "\n",
        "# Load the dataframe from the pickle file\n",
        "with open(\"duplicated_dropped_dataframe_pq.pkl\", \"rb\") as f:\n",
        "    duplicate_dropped = pickle.load(f)\n",
        "\n",
        "print(\"DataFrame successfully loaded!\")\n"
      ]
    },
    {
      "cell_type": "markdown",
      "metadata": {
        "id": "IMs70BseRdbG"
      },
      "source": [
        "# Spatial Queue"
      ]
    },
    {
      "cell_type": "code",
      "execution_count": null,
      "metadata": {
        "id": "EmvR1J1mfW1A"
      },
      "outputs": [],
      "source": [
        "# from constants import CTMParameters\n",
        "import math\n",
        "\n",
        "# Notes for Maziar:\n",
        "## Do not use CTMParameters().object at all! If you use it, it will create a new object every time you call it. Instead, use the instance that you make of it!\n",
        "## Try avoidng using the istance of CTMParemeters as a global object. Instead, pass it as an argument to the functions that need it.\n",
        "## The docstring could be formatted for clarity: 1- Mention all parameters and their expected types! 2- Include an explanation of the function's output!\n",
        "## Check for invalid or empty densities.\n",
        "## Use descriptive variable names for better readability.\n",
        "## Avoid magic numbers like 1 for the green light status; use constants instead.\n",
        "\n",
        "\n",
        "# load params\n",
        "ctm_params = CTMParameters() # for now, we use same parameters we had in CTM model\n",
        "\n",
        "# define the function for finding cumulative counts\n",
        "N_upstr = cumulativecount_up\n",
        "N_downstr = cumulativecount_down\n",
        "\n",
        "## spatial queue model: update number of vehicles in the link\n",
        "# time: current simulation time\n",
        "# arguments: N_upstrs: cumulative count of vehicles in upstream at a given time. I'll pass N_downstr(t) and it should tell me the cumulative count\n",
        "# N_downstr: cumulative count at link downstream at time t (current time)\n",
        "# entry_flow: for now constant, average number of vehicles entering to the link in vehicles per second\n",
        "# assumptions: queue forms at the link downstream\n",
        "def update_spatial_queue(time, link_id, entry_flow, traffic_lights_df, traffic_lights_dict_states):\n",
        "    cell_length = cell_lengths[link_id]\n",
        "    segment_length = segments_gdf_exploded[segments_gdf_exploded[\"link_id\"] == link_id].iloc[0].length\n",
        "    #find the receiving flow, including the entry flow\n",
        "    receceiving_flow = min( entry_flow*ctm_params.get_time_step(cell_length), segment_length*ctm_params.get_jam_density(cell_length) - (N_upstr(time,link_id) - N_downstr(time,link_id)), ctm_params.max_flow(cell_length)*ctm_params.get_time_step(cell_length))\n",
        "\n",
        "    # check if there is a traffic light at the end of the segment\n",
        "    if is_tl(link_id, traffic_lights_df):\n",
        "        # check the status of the traffic light\n",
        "        if tl_status(time, link_id, traffic_lights_df, traffic_lights_dict_states) == 1: # green light\n",
        "            # find the link sending flow using point queue model\n",
        "            sending_flow = min( N_upstr(time + ctm_params.get_time_step(cell_length) - (segment_length/ctm_params.free_flow_speed), link_id) - N_downstr(time, link_id), ctm_params.max_flow(cell_length)*ctm_params.get_time_step(cell_length))\n",
        "        else:\n",
        "            sending_flow = 0\n",
        "    else: # no traffic light at the end of the link\n",
        "        sending_flow = min( N_upstr(time + ctm_params.get_time_step(cell_length) - (segment_length/ctm_params.free_flow_speed), link_id) - N_downstr(time, link_id), ctm_params.max_flow(cell_length)*ctm_params.get_time_step(cell_length))\n",
        "\n",
        "    # find the number of vehicles in the link at the next time step\n",
        "    n_current = N_downstr(time, link_id) - N_upstr(time, link_id)   # current number of vehicles\n",
        "    n_updated = n_current + receceiving_flow - sending_flow\n",
        "\n",
        "    link_outflow = sending_flow\n",
        "    link_density = n_updated / segment_length\n",
        "    return link_density, link_outflow    # please note the order\n",
        "\n",
        "# # test the function\n",
        "# Density = [0.1, 0.15, 0, 0.2, 0.1, 0.1]\n",
        "# entry_flow = 0.1\n",
        "# time = 5\n",
        "# updated_density = update_point_queue(time, 1, Density, ctm_params, entry_flow)\n",
        "# print(updated_density)"
      ]
    },
    {
      "cell_type": "code",
      "execution_count": null,
      "metadata": {
        "id": "-74NhZdhRkO5"
      },
      "outputs": [],
      "source": [
        "from collections import defaultdict\n",
        "\n",
        "spatial_queue_data = defaultdict(dict)\n",
        "\n",
        "for link_id in duplicate_dropped[\"link_id\"].unique():\n",
        "    segment_df = duplicate_dropped[duplicate_dropped[\"link_id\"] == link_id].reset_index().drop(columns=[\"index\"])\n",
        "    segment_df = segment_df.sort_values(\"time\")\n",
        "    for time in segment_df[\"time\"].unique():\n",
        "\n",
        "        inflow_dt = veh_density_flow[((veh_density_flow[\"time\"] >= time) &\n",
        "         (veh_density_flow[\"time\"] <= time+ctm_params.get_time_step(cell_lengths[link_id]))) &\n",
        "          (veh_density_flow[\"link_id\"] == link_id)]\n",
        "\n",
        "        # print(\"inflow is \" , inflow_dt[\"entry\"].values[0] * ctm_params.time_step)\n",
        "        if inflow_dt.empty:\n",
        "            inflow_dt = 0\n",
        "        else:\n",
        "            inflow_dt = inflow_dt[\"entry\"].sum() / ctm_params.get_time_step(cell_lengths[link_id])\n",
        "\n",
        "        link_density, link_outflow = update_spatial_queue(time, link_id, inflow_dt, traffic_lights_df, traffic_lights_dict_states)\n",
        "\n",
        "        spatial_queue_data[link_id][time] = {\"link_density\": link_density, \"link_outflow\": link_outflow}\n",
        "        # print(time, link_id, \"done\")\n"
      ]
    },
    {
      "cell_type": "code",
      "execution_count": null,
      "metadata": {
        "id": "Zig0hbFIRxXx"
      },
      "outputs": [],
      "source": [
        "duplicate_dropped[\"spatial_queue_predicted_density\"] = duplicate_dropped.apply(lambda x: spatial_queue_data[x[\"link_id\"]][x[\"time\"]][\"link_density\"], axis=1).fillna(0)\n",
        "# duplicate_dropped[\"density\"] = duplicate_dropped.reset_index().apply(lambda row: row[\"count\"]/(segments_gdf_exploded[segments_gdf_exploded[\"link_id\"] == row[\"link_id\"]][\"length\"].values[0]), axis=1)"
      ]
    },
    {
      "cell_type": "code",
      "execution_count": null,
      "metadata": {
        "colab": {
          "base_uri": "https://localhost:8080/"
        },
        "id": "XD3sOb2pSUdq",
        "outputId": "7ad095f6-ee11-4c15-85b4-ab3a854ab27e"
      },
      "outputs": [],
      "source": [
        "for link_id in sorted(duplicate_dropped[\"link_id\"].unique()):\n",
        "    rmse = np.sqrt(np.mean((duplicate_dropped[duplicate_dropped[\"link_id\"] == link_id][\"density\"] - duplicate_dropped[duplicate_dropped[\"link_id\"] == link_id][\"spatial_queue_predicted_density\"])**2))\n",
        "    print(\"For link with id: \", link_id, \" the RMSE is: \", rmse)"
      ]
    },
    {
      "cell_type": "code",
      "execution_count": null,
      "metadata": {
        "colab": {
          "base_uri": "https://localhost:8080/"
        },
        "id": "OriCAoRC6pPQ",
        "outputId": "bca6453b-7516-4e51-94bf-861e42e62258"
      },
      "outputs": [],
      "source": [
        "# prompt: store0 duplicated_dropped dataframe  for point queue\n",
        "\n",
        "import pandas as pd\n",
        "import pickle\n",
        "# Assuming 'duplicate_dropped' DataFrame is already defined and populated as in your provided code\n",
        "\n",
        "# Save the dataframe to a pickle file\n",
        "with open(\"duplicated_dropped_dataframe_pq_sq.pkl\", \"wb\") as f:\n",
        "    pickle.dump(duplicate_dropped, f)\n",
        "\n",
        "print(\"DataFrame saved to duplicated_dropped_dataframe_pq_sq.pkl\")\n"
      ]
    },
    {
      "cell_type": "code",
      "execution_count": null,
      "metadata": {
        "colab": {
          "base_uri": "https://localhost:8080/"
        },
        "id": "8e2sqxVU6sV1",
        "outputId": "a73b8e94-86fe-4cae-aa82-d26def414daa"
      },
      "outputs": [],
      "source": [
        "\n",
        "# prompt: load duplicated_dropped dataframe for point queue\n",
        "\n",
        "import pickle\n",
        "\n",
        "# Load the dataframe from the pickle file\n",
        "with open(\"duplicated_dropped_dataframe_pq_sq.pkl\", \"rb\") as f:\n",
        "    duplicate_dropped = pickle.load(f)\n",
        "\n",
        "print(\"DataFrame successfully loaded!\")\n"
      ]
    },
    {
      "cell_type": "markdown",
      "metadata": {
        "id": "mvD2VM_KbOls"
      },
      "source": [
        "## Spatial Queue Heatmap"
      ]
    },
    {
      "cell_type": "code",
      "execution_count": null,
      "metadata": {
        "colab": {
          "base_uri": "https://localhost:8080/",
          "height": 542
        },
        "id": "7tSp-G1NSZ9d",
        "outputId": "ca4d7b84-b754-4d54-ef7d-5ce9421565b6"
      },
      "outputs": [],
      "source": [
        "import plotly.graph_objects as go\n",
        "duplicate_dropped3 = duplicate_dropped.copy()\n",
        "duplicate_dropped3[\"e2\"] = (duplicate_dropped3[\"spatial_queue_predicted_density\"] - duplicate_dropped3[\"density\"])**2\n",
        "\n",
        "unique_links = duplicate_dropped3[\"link_id\"].unique()\n",
        "unique_times = duplicate_dropped3[\"time\"].unique()\n",
        "\n",
        "full_grid = pd.MultiIndex.from_product([unique_links, unique_times], names=[\"link_id\", \"time\"]).to_frame(index=False)\n",
        "\n",
        "filled_data = full_grid.merge(duplicate_dropped3, on=[\"link_id\", \"time\"], how=\"left\").fillna({\"e2\": 0})\n",
        "fig = go.Figure(data=go.Heatmap(\n",
        "    z=duplicate_dropped3[\"e2\"].values,\n",
        "    x=duplicate_dropped3[\"link_id\"].values,\n",
        "    y=duplicate_dropped3[\"time\"].values,\n",
        "    colorscale=\"Reds\",\n",
        "    zmin=duplicate_dropped3[\"e2\"].min(),\n",
        "    zmax=duplicate_dropped3[\"e2\"].max()\n",
        "))\n",
        "\n",
        "fig.update_layout(\n",
        "    title=f\"Error Heatmap for Spatial Queue\",\n",
        "    xaxis_title=\"Cell Index\",\n",
        "    yaxis_title=\"Time\",\n",
        "    font=dict(size=14),\n",
        "    coloraxis_colorbar=dict(title=\"Value\")  # Add colorbar title\n",
        ")\n",
        "\n",
        "fig.show()"
      ]
    },
    {
      "cell_type": "markdown",
      "metadata": {
        "id": "4Yn8LRg2XvYO"
      },
      "source": [
        "# Comparison"
      ]
    },
    {
      "cell_type": "code",
      "execution_count": null,
      "metadata": {
        "id": "RUrLJlvbBaNr"
      },
      "outputs": [],
      "source": [
        "ctm_actual = pd.DataFrame(data_list_actual)\n",
        "ctm_predicted = pd.DataFrame(data_list_predicted)"
      ]
    },
    {
      "cell_type": "code",
      "execution_count": null,
      "metadata": {
        "id": "s8_ziSFlAtgO"
      },
      "outputs": [],
      "source": [
        "ctm_merged = ctm_actual.merge(ctm_predicted, on=[\"link_id\", \"cell\", \"time\"], suffixes=('_actual', '_predicted'))\n",
        "ctm_merged[\"sq_error\"] = (ctm_merged[\"value_actual\"] - ctm_merged[\"value_predicted\"])**2"
      ]
    },
    {
      "cell_type": "code",
      "execution_count": null,
      "metadata": {
        "colab": {
          "base_uri": "https://localhost:8080/",
          "height": 1000
        },
        "id": "Bb7VS8SMCE5g",
        "outputId": "cdc7f540-595a-43e2-e6ce-b85756fd0503"
      },
      "outputs": [],
      "source": [
        "ctm_merged_rmse = ctm_merged.groupby(by=[\"link_id\", \"cell\"]).agg({\"sq_error\": \"mean\"}).reset_index()\n",
        "ctm_merged_rmse[\"rmse\"] = np.sqrt(ctm_merged_rmse[\"sq_error\"])\n",
        "ctm_merged_rmse"
      ]
    },
    {
      "cell_type": "code",
      "execution_count": null,
      "metadata": {
        "id": "BPbN-CEeCMJl"
      },
      "outputs": [],
      "source": [
        "duplicate_dropped[\"point_queue_sq_error\"] = (duplicate_dropped[\"point_queue_predicted_density\"] - duplicate_dropped[\"density\"])**2\n",
        "duplicate_dropped[\"spatial_queue_sq_error\"] = (duplicate_dropped[\"spatial_queue_predicted_density\"] - duplicate_dropped[\"density\"])**2"
      ]
    },
    {
      "cell_type": "code",
      "execution_count": null,
      "metadata": {
        "colab": {
          "base_uri": "https://localhost:8080/",
          "height": 206
        },
        "id": "un9EcJSUJNDw",
        "outputId": "e7bdd7f0-926a-446e-b8c7-c172af8d7606"
      },
      "outputs": [],
      "source": [
        "pq_sq_rmse = duplicate_dropped.groupby(\"link_id\").agg({\"point_queue_sq_error\": \"mean\", \"spatial_queue_sq_error\": \"mean\"}).reset_index()\n",
        "pq_sq_rmse[\"pq_rmse\"] = np.sqrt(pq_sq_rmse[\"point_queue_sq_error\"])\n",
        "pq_sq_rmse[\"sq_rmse\"] = np.sqrt(pq_sq_rmse[\"spatial_queue_sq_error\"])\n",
        "pq_sq_rmse"
      ]
    },
    {
      "cell_type": "markdown",
      "metadata": {
        "id": "Q_CQWEqYKrNS"
      },
      "source": [
        "## Comparison Plot"
      ]
    },
    {
      "cell_type": "code",
      "execution_count": null,
      "metadata": {
        "colab": {
          "base_uri": "https://localhost:8080/",
          "height": 585
        },
        "id": "vp8IkNqmKgIP",
        "outputId": "2fd08b95-7283-4d0a-8620-d134098e9202"
      },
      "outputs": [],
      "source": [
        "import matplotlib.pyplot as plt\n",
        "import re\n",
        "x = ctm_merged_rmse.apply(lambda row: \"L\" + str(int(row[\"link_id\"])) + \"C\" + str(int(row[\"cell\"])), axis=1)\n",
        "y = ctm_merged_rmse[\"rmse\"]\n",
        "plt.figure(figsize=(12, 6))\n",
        "plt.plot(x, y, label=\"CTM\")\n",
        "\n",
        "plt.xticks(rotation=45)\n",
        "plt.xlabel(\"Link ID and Cell Index\")\n",
        "plt.ylabel(\"RMSE\")\n",
        "plt.title(\"RMSE vs Link ID and Cell Index\")\n",
        "\n",
        "x_pq_sq = [int(re.findall(r\"L(?P<link_id>\\d)\", l)[0]) for l in x]\n",
        "y_pq = [pq_sq_rmse[pq_sq_rmse[\"link_id\"] == l][\"pq_rmse\"].values[0] for l in x_pq_sq]\n",
        "x_sq = [pq_sq_rmse[pq_sq_rmse[\"link_id\"] == l][\"sq_rmse\"].values[0] for l in x_pq_sq]\n",
        "plt.plot(x, y_pq, label=\"Point Queue\")\n",
        "plt.plot(x, x_sq, label=\"Spatial Queue\")\n",
        "plt.grid()\n",
        "plt.legend()\n",
        "plt.show()\n"
      ]
    },
    {
      "cell_type": "code",
      "execution_count": null,
      "metadata": {
        "id": "xGoNLMgnZY-M"
      },
      "outputs": [],
      "source": []
    }
  ],
  "metadata": {
    "colab": {
      "provenance": []
    },
    "kernelspec": {
      "display_name": ".venv",
      "language": "python",
      "name": "python3"
    },
    "language_info": {
      "codemirror_mode": {
        "name": "ipython",
        "version": 3
      },
      "file_extension": ".py",
      "mimetype": "text/x-python",
      "name": "python",
      "nbconvert_exporter": "python",
      "pygments_lexer": "ipython3",
      "version": "3.13.2"
    }
  },
  "nbformat": 4,
  "nbformat_minor": 0
}
